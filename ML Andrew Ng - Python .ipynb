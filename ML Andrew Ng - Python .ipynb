{
 "cells": [
  {
   "cell_type": "code",
   "execution_count": 1,
   "metadata": {
    "collapsed": true
   },
   "outputs": [],
   "source": [
    "import numpy as np\n",
    "import pandas as pd\n",
    "import matplotlib.pyplot as plt\n",
    "%matplotlib inline"
   ]
  },
  {
   "cell_type": "code",
   "execution_count": 2,
   "metadata": {
    "collapsed": false
   },
   "outputs": [
    {
     "data": {
      "text/html": [
       "<div>\n",
       "<table border=\"1\" class=\"dataframe\">\n",
       "  <thead>\n",
       "    <tr style=\"text-align: right;\">\n",
       "      <th></th>\n",
       "      <th>Population</th>\n",
       "      <th>Profit</th>\n",
       "    </tr>\n",
       "  </thead>\n",
       "  <tbody>\n",
       "    <tr>\n",
       "      <th>0</th>\n",
       "      <td>6.1101</td>\n",
       "      <td>17.5920</td>\n",
       "    </tr>\n",
       "    <tr>\n",
       "      <th>1</th>\n",
       "      <td>5.5277</td>\n",
       "      <td>9.1302</td>\n",
       "    </tr>\n",
       "    <tr>\n",
       "      <th>2</th>\n",
       "      <td>8.5186</td>\n",
       "      <td>13.6620</td>\n",
       "    </tr>\n",
       "    <tr>\n",
       "      <th>3</th>\n",
       "      <td>7.0032</td>\n",
       "      <td>11.8540</td>\n",
       "    </tr>\n",
       "    <tr>\n",
       "      <th>4</th>\n",
       "      <td>5.8598</td>\n",
       "      <td>6.8233</td>\n",
       "    </tr>\n",
       "  </tbody>\n",
       "</table>\n",
       "</div>"
      ],
      "text/plain": [
       "   Population   Profit\n",
       "0      6.1101  17.5920\n",
       "1      5.5277   9.1302\n",
       "2      8.5186  13.6620\n",
       "3      7.0032  11.8540\n",
       "4      5.8598   6.8233"
      ]
     },
     "execution_count": 2,
     "metadata": {},
     "output_type": "execute_result"
    }
   ],
   "source": [
    "import os\n",
    "path = os.getcwd() + '\\Downloads\\data_nb\\ex1data1.txt'\n",
    "data = pd.read_csv(path, header = None, names= ['Population','Profit'])\n",
    "data.head()"
   ]
  },
  {
   "cell_type": "code",
   "execution_count": 3,
   "metadata": {
    "collapsed": false
   },
   "outputs": [
    {
     "data": {
      "text/plain": [
       "Population    97\n",
       "Profit        97\n",
       "dtype: int64"
      ]
     },
     "execution_count": 3,
     "metadata": {},
     "output_type": "execute_result"
    }
   ],
   "source": [
    "data.count()"
   ]
  },
  {
   "cell_type": "code",
   "execution_count": 4,
   "metadata": {
    "collapsed": false
   },
   "outputs": [
    {
     "data": {
      "text/html": [
       "<div>\n",
       "<table border=\"1\" class=\"dataframe\">\n",
       "  <thead>\n",
       "    <tr style=\"text-align: right;\">\n",
       "      <th></th>\n",
       "      <th>Population</th>\n",
       "      <th>Profit</th>\n",
       "    </tr>\n",
       "  </thead>\n",
       "  <tbody>\n",
       "    <tr>\n",
       "      <th>count</th>\n",
       "      <td>97.000000</td>\n",
       "      <td>97.000000</td>\n",
       "    </tr>\n",
       "    <tr>\n",
       "      <th>mean</th>\n",
       "      <td>8.159800</td>\n",
       "      <td>5.839135</td>\n",
       "    </tr>\n",
       "    <tr>\n",
       "      <th>std</th>\n",
       "      <td>3.869884</td>\n",
       "      <td>5.510262</td>\n",
       "    </tr>\n",
       "    <tr>\n",
       "      <th>min</th>\n",
       "      <td>5.026900</td>\n",
       "      <td>-2.680700</td>\n",
       "    </tr>\n",
       "    <tr>\n",
       "      <th>25%</th>\n",
       "      <td>5.707700</td>\n",
       "      <td>1.986900</td>\n",
       "    </tr>\n",
       "    <tr>\n",
       "      <th>50%</th>\n",
       "      <td>6.589400</td>\n",
       "      <td>4.562300</td>\n",
       "    </tr>\n",
       "    <tr>\n",
       "      <th>75%</th>\n",
       "      <td>8.578100</td>\n",
       "      <td>7.046700</td>\n",
       "    </tr>\n",
       "    <tr>\n",
       "      <th>max</th>\n",
       "      <td>22.203000</td>\n",
       "      <td>24.147000</td>\n",
       "    </tr>\n",
       "  </tbody>\n",
       "</table>\n",
       "</div>"
      ],
      "text/plain": [
       "       Population     Profit\n",
       "count   97.000000  97.000000\n",
       "mean     8.159800   5.839135\n",
       "std      3.869884   5.510262\n",
       "min      5.026900  -2.680700\n",
       "25%      5.707700   1.986900\n",
       "50%      6.589400   4.562300\n",
       "75%      8.578100   7.046700\n",
       "max     22.203000  24.147000"
      ]
     },
     "execution_count": 4,
     "metadata": {},
     "output_type": "execute_result"
    }
   ],
   "source": [
    "data.describe()"
   ]
  },
  {
   "cell_type": "code",
   "execution_count": 5,
   "metadata": {
    "collapsed": false
   },
   "outputs": [
    {
     "data": {
      "text/plain": [
       "<matplotlib.axes._subplots.AxesSubplot at 0xc3360f0>"
      ]
     },
     "execution_count": 5,
     "metadata": {},
     "output_type": "execute_result"
    },
    {
     "data": {
      "image/png": "[encoded data removed]",
      "text/plain": [
       "<matplotlib.figure.Figure at 0xc22a320>"
      ]
     },
     "metadata": {},
     "output_type": "display_data"
    }
   ],
   "source": [
    "data.plot(kind = 'scatter', x = 'Population', y ='Profit', figsize = (12,8))"
   ]
  },
  {
   "cell_type": "code",
   "execution_count": 6,
   "metadata": {
    "collapsed": true
   },
   "outputs": [],
   "source": [
    "def Cost(X, y, theta):\n",
    "    inner = np.power(((X * theta.T) - y), 2)\n",
    "    return np.sum(inner) / (2 * len(X))\n"
   ]
  },
  {
   "cell_type": "code",
   "execution_count": 7,
   "metadata": {
    "collapsed": true
   },
   "outputs": [],
   "source": [
    "data.insert(0,'Ones',1)"
   ]
  },
  {
   "cell_type": "code",
   "execution_count": 8,
   "metadata": {
    "collapsed": false
   },
   "outputs": [
    {
     "data": {
      "text/html": [
       "<div>\n",
       "<table border=\"1\" class=\"dataframe\">\n",
       "  <thead>\n",
       "    <tr style=\"text-align: right;\">\n",
       "      <th></th>\n",
       "      <th>Ones</th>\n",
       "      <th>Population</th>\n",
       "      <th>Profit</th>\n",
       "    </tr>\n",
       "  </thead>\n",
       "  <tbody>\n",
       "    <tr>\n",
       "      <th>0</th>\n",
       "      <td>1</td>\n",
       "      <td>6.1101</td>\n",
       "      <td>17.5920</td>\n",
       "    </tr>\n",
       "    <tr>\n",
       "      <th>1</th>\n",
       "      <td>1</td>\n",
       "      <td>5.5277</td>\n",
       "      <td>9.1302</td>\n",
       "    </tr>\n",
       "    <tr>\n",
       "      <th>2</th>\n",
       "      <td>1</td>\n",
       "      <td>8.5186</td>\n",
       "      <td>13.6620</td>\n",
       "    </tr>\n",
       "    <tr>\n",
       "      <th>3</th>\n",
       "      <td>1</td>\n",
       "      <td>7.0032</td>\n",
       "      <td>11.8540</td>\n",
       "    </tr>\n",
       "    <tr>\n",
       "      <th>4</th>\n",
       "      <td>1</td>\n",
       "      <td>5.8598</td>\n",
       "      <td>6.8233</td>\n",
       "    </tr>\n",
       "  </tbody>\n",
       "</table>\n",
       "</div>"
      ],
      "text/plain": [
       "   Ones  Population   Profit\n",
       "0     1      6.1101  17.5920\n",
       "1     1      5.5277   9.1302\n",
       "2     1      8.5186  13.6620\n",
       "3     1      7.0032  11.8540\n",
       "4     1      5.8598   6.8233"
      ]
     },
     "execution_count": 8,
     "metadata": {},
     "output_type": "execute_result"
    }
   ],
   "source": [
    "data.head()"
   ]
  },
  {
   "cell_type": "code",
   "execution_count": 9,
   "metadata": {
    "collapsed": true
   },
   "outputs": [],
   "source": [
    "cols = data.shape[1]\n",
    "X = data.iloc[:,0:cols-1]\n",
    "y = data.iloc[:,cols-1:cols]"
   ]
  },
  {
   "cell_type": "code",
   "execution_count": 10,
   "metadata": {
    "collapsed": false
   },
   "outputs": [
    {
     "data": {
      "text/html": [
       "<div>\n",
       "<table border=\"1\" class=\"dataframe\">\n",
       "  <thead>\n",
       "    <tr style=\"text-align: right;\">\n",
       "      <th></th>\n",
       "      <th>Ones</th>\n",
       "      <th>Population</th>\n",
       "    </tr>\n",
       "  </thead>\n",
       "  <tbody>\n",
       "    <tr>\n",
       "      <th>0</th>\n",
       "      <td>1</td>\n",
       "      <td>6.1101</td>\n",
       "    </tr>\n",
       "    <tr>\n",
       "      <th>1</th>\n",
       "      <td>1</td>\n",
       "      <td>5.5277</td>\n",
       "    </tr>\n",
       "    <tr>\n",
       "      <th>2</th>\n",
       "      <td>1</td>\n",
       "      <td>8.5186</td>\n",
       "    </tr>\n",
       "    <tr>\n",
       "      <th>3</th>\n",
       "      <td>1</td>\n",
       "      <td>7.0032</td>\n",
       "    </tr>\n",
       "    <tr>\n",
       "      <th>4</th>\n",
       "      <td>1</td>\n",
       "      <td>5.8598</td>\n",
       "    </tr>\n",
       "  </tbody>\n",
       "</table>\n",
       "</div>"
      ],
      "text/plain": [
       "   Ones  Population\n",
       "0     1      6.1101\n",
       "1     1      5.5277\n",
       "2     1      8.5186\n",
       "3     1      7.0032\n",
       "4     1      5.8598"
      ]
     },
     "execution_count": 10,
     "metadata": {},
     "output_type": "execute_result"
    }
   ],
   "source": [
    "X.head()"
   ]
  },
  {
   "cell_type": "code",
   "execution_count": 11,
   "metadata": {
    "collapsed": false
   },
   "outputs": [
    {
     "data": {
      "text/html": [
       "<div>\n",
       "<table border=\"1\" class=\"dataframe\">\n",
       "  <thead>\n",
       "    <tr style=\"text-align: right;\">\n",
       "      <th></th>\n",
       "      <th>Profit</th>\n",
       "    </tr>\n",
       "  </thead>\n",
       "  <tbody>\n",
       "    <tr>\n",
       "      <th>0</th>\n",
       "      <td>17.5920</td>\n",
       "    </tr>\n",
       "    <tr>\n",
       "      <th>1</th>\n",
       "      <td>9.1302</td>\n",
       "    </tr>\n",
       "    <tr>\n",
       "      <th>2</th>\n",
       "      <td>13.6620</td>\n",
       "    </tr>\n",
       "    <tr>\n",
       "      <th>3</th>\n",
       "      <td>11.8540</td>\n",
       "    </tr>\n",
       "    <tr>\n",
       "      <th>4</th>\n",
       "      <td>6.8233</td>\n",
       "    </tr>\n",
       "  </tbody>\n",
       "</table>\n",
       "</div>"
      ],
      "text/plain": [
       "    Profit\n",
       "0  17.5920\n",
       "1   9.1302\n",
       "2  13.6620\n",
       "3  11.8540\n",
       "4   6.8233"
      ]
     },
     "execution_count": 11,
     "metadata": {},
     "output_type": "execute_result"
    }
   ],
   "source": [
    "y.head()"
   ]
  },
  {
   "cell_type": "code",
   "execution_count": 12,
   "metadata": {
    "collapsed": true
   },
   "outputs": [],
   "source": [
    "X = np.matrix(X.values)\n",
    "y = np.matrix(y.values)\n",
    "theta = np.matrix(np.array([0,0]))"
   ]
  },
  {
   "cell_type": "code",
   "execution_count": 13,
   "metadata": {
    "collapsed": false
   },
   "outputs": [
    {
     "data": {
      "text/plain": [
       "matrix([[  1.    ,   6.1101],\n",
       "        [  1.    ,   5.5277],\n",
       "        [  1.    ,   8.5186],\n",
       "        [  1.    ,   7.0032],\n",
       "        [  1.    ,   5.8598],\n",
       "        [  1.    ,   8.3829],\n",
       "        [  1.    ,   7.4764],\n",
       "        [  1.    ,   8.5781],\n",
       "        [  1.    ,   6.4862],\n",
       "        [  1.    ,   5.0546],\n",
       "        [  1.    ,   5.7107],\n",
       "        [  1.    ,  14.164 ],\n",
       "        [  1.    ,   5.734 ],\n",
       "        [  1.    ,   8.4084],\n",
       "        [  1.    ,   5.6407],\n",
       "        [  1.    ,   5.3794],\n",
       "        [  1.    ,   6.3654],\n",
       "        [  1.    ,   5.1301],\n",
       "        [  1.    ,   6.4296],\n",
       "        [  1.    ,   7.0708],\n",
       "        [  1.    ,   6.1891],\n",
       "        [  1.    ,  20.27  ],\n",
       "        [  1.    ,   5.4901],\n",
       "        [  1.    ,   6.3261],\n",
       "        [  1.    ,   5.5649],\n",
       "        [  1.    ,  18.945 ],\n",
       "        [  1.    ,  12.828 ],\n",
       "        [  1.    ,  10.957 ],\n",
       "        [  1.    ,  13.176 ],\n",
       "        [  1.    ,  22.203 ],\n",
       "        [  1.    ,   5.2524],\n",
       "        [  1.    ,   6.5894],\n",
       "        [  1.    ,   9.2482],\n",
       "        [  1.    ,   5.8918],\n",
       "        [  1.    ,   8.2111],\n",
       "        [  1.    ,   7.9334],\n",
       "        [  1.    ,   8.0959],\n",
       "        [  1.    ,   5.6063],\n",
       "        [  1.    ,  12.836 ],\n",
       "        [  1.    ,   6.3534],\n",
       "        [  1.    ,   5.4069],\n",
       "        [  1.    ,   6.8825],\n",
       "        [  1.    ,  11.708 ],\n",
       "        [  1.    ,   5.7737],\n",
       "        [  1.    ,   7.8247],\n",
       "        [  1.    ,   7.0931],\n",
       "        [  1.    ,   5.0702],\n",
       "        [  1.    ,   5.8014],\n",
       "        [  1.    ,  11.7   ],\n",
       "        [  1.    ,   5.5416],\n",
       "        [  1.    ,   7.5402],\n",
       "        [  1.    ,   5.3077],\n",
       "        [  1.    ,   7.4239],\n",
       "        [  1.    ,   7.6031],\n",
       "        [  1.    ,   6.3328],\n",
       "        [  1.    ,   6.3589],\n",
       "        [  1.    ,   6.2742],\n",
       "        [  1.    ,   5.6397],\n",
       "        [  1.    ,   9.3102],\n",
       "        [  1.    ,   9.4536],\n",
       "        [  1.    ,   8.8254],\n",
       "        [  1.    ,   5.1793],\n",
       "        [  1.    ,  21.279 ],\n",
       "        [  1.    ,  14.908 ],\n",
       "        [  1.    ,  18.959 ],\n",
       "        [  1.    ,   7.2182],\n",
       "        [  1.    ,   8.2951],\n",
       "        [  1.    ,  10.236 ],\n",
       "        [  1.    ,   5.4994],\n",
       "        [  1.    ,  20.341 ],\n",
       "        [  1.    ,  10.136 ],\n",
       "        [  1.    ,   7.3345],\n",
       "        [  1.    ,   6.0062],\n",
       "        [  1.    ,   7.2259],\n",
       "        [  1.    ,   5.0269],\n",
       "        [  1.    ,   6.5479],\n",
       "        [  1.    ,   7.5386],\n",
       "        [  1.    ,   5.0365],\n",
       "        [  1.    ,  10.274 ],\n",
       "        [  1.    ,   5.1077],\n",
       "        [  1.    ,   5.7292],\n",
       "        [  1.    ,   5.1884],\n",
       "        [  1.    ,   6.3557],\n",
       "        [  1.    ,   9.7687],\n",
       "        [  1.    ,   6.5159],\n",
       "        [  1.    ,   8.5172],\n",
       "        [  1.    ,   9.1802],\n",
       "        [  1.    ,   6.002 ],\n",
       "        [  1.    ,   5.5204],\n",
       "        [  1.    ,   5.0594],\n",
       "        [  1.    ,   5.7077],\n",
       "        [  1.    ,   7.6366],\n",
       "        [  1.    ,   5.8707],\n",
       "        [  1.    ,   5.3054],\n",
       "        [  1.    ,   8.2934],\n",
       "        [  1.    ,  13.394 ],\n",
       "        [  1.    ,   5.4369]])"
      ]
     },
     "execution_count": 13,
     "metadata": {},
     "output_type": "execute_result"
    }
   ],
   "source": [
    "X"
   ]
  },
  {
   "cell_type": "code",
   "execution_count": 14,
   "metadata": {
    "collapsed": false
   },
   "outputs": [
    {
     "data": {
      "text/plain": [
       "((97L, 2L), (1L, 2L), (97L, 1L))"
      ]
     },
     "execution_count": 14,
     "metadata": {},
     "output_type": "execute_result"
    }
   ],
   "source": [
    "X.shape, theta.shape, y.shape"
   ]
  },
  {
   "cell_type": "code",
   "execution_count": 15,
   "metadata": {
    "collapsed": false
   },
   "outputs": [
    {
     "data": {
      "text/plain": [
       "32.072733877455676"
      ]
     },
     "execution_count": 15,
     "metadata": {},
     "output_type": "execute_result"
    }
   ],
   "source": [
    "Cost(X,y, theta)"
   ]
  },
  {
   "cell_type": "code",
   "execution_count": 19,
   "metadata": {
    "collapsed": true
   },
   "outputs": [],
   "source": [
    "def gradientDescent(X, y, theta, alpha, iters):\n",
    "    temp = np.matrix(np.zeros(theta.shape))\n",
    "    params = int(theta.ravel().shape[1])\n",
    "    cost = np.zeros(iters)\n",
    "    \n",
    "    for i in range(iters):\n",
    "        errors = (X * theta.T )- y\n",
    "        \n",
    "        for j in range(params):\n",
    "            term = np.multiply(errors, X[:,j])\n",
    "            temp[0,j] = theta[0,j] - ((alpha/len(X)) * np.sum(term))\n",
    "            \n",
    "        theta = temp\n",
    "        cost[i] = Cost(X,y ,theta)\n",
    "    return theta, cost\n"
   ]
  },
  {
   "cell_type": "code",
   "execution_count": 17,
   "metadata": {
    "collapsed": true
   },
   "outputs": [],
   "source": [
    "alpha = 0.01\n",
    "iters = 1000"
   ]
  },
  {
   "cell_type": "code",
   "execution_count": 20,
   "metadata": {
    "collapsed": false
   },
   "outputs": [
    {
     "data": {
      "text/plain": [
       "matrix([[-3.24140214,  1.1272942 ]])"
      ]
     },
     "execution_count": 20,
     "metadata": {},
     "output_type": "execute_result"
    }
   ],
   "source": [
    "g, cost = gradientDescent(X,y,theta,alpha,iters)\n",
    "g"
   ]
  },
  {
   "cell_type": "code",
   "execution_count": 21,
   "metadata": {
    "collapsed": false
   },
   "outputs": [
    {
     "data": {
      "text/plain": [
       "array([ 6.73719046,  5.93159357,  5.90115471,  5.89522859,  5.89009494,\n",
       "        5.88500416,  5.87993248,  5.87487909,  5.86984391,  5.86482687,\n",
       "        5.85982789,  5.85484692,  5.84988389,  5.84493874,  5.8400114 ,\n",
       "        5.83510181,  5.8302099 ,  5.82533562,  5.82047889,  5.81563965,\n",
       "        5.81081784,  5.8060134 ,  5.80122627,  5.79645638,  5.79170367,\n",
       "        5.78696808,  5.78224955,  5.77754801,  5.77286341,  5.76819568,\n",
       "        5.76354477,  5.75891061,  5.75429313,  5.7496923 ,  5.74510803,\n",
       "        5.74054027,  5.73598897,  5.73145406,  5.72693549,  5.72243319,\n",
       "        5.71794711,  5.71347718,  5.70902336,  5.70458558,  5.70016379,\n",
       "        5.69575792,  5.69136792,  5.68699373,  5.6826353 ,  5.67829257,\n",
       "        5.67396548,  5.66965398,  5.665358  ,  5.6610775 ,  5.65681242,\n",
       "        5.6525627 ,  5.64832829,  5.64410913,  5.63990517,  5.63571635,\n",
       "        5.63154261,  5.62738391,  5.6232402 ,  5.6191114 ,  5.61499748,\n",
       "        5.61089837,  5.60681403,  5.60274441,  5.59868944,  5.59464907,\n",
       "        5.59062326,  5.58661195,  5.58261509,  5.57863263,  5.57466451,\n",
       "        5.57071068,  5.56677109,  5.5628457 ,  5.55893444,  5.55503727,\n",
       "        5.55115414,  5.547285  ,  5.54342979,  5.53958847,  5.53576098,\n",
       "        5.53194728,  5.52814732,  5.52436105,  5.52058841,  5.51682936,\n",
       "        5.51308385,  5.50935183,  5.50563326,  5.50192808,  5.49823624,\n",
       "        5.49455771,  5.49089242,  5.48724033,  5.4836014 ,  5.47997558,\n",
       "        5.47636282,  5.47276307,  5.46917628,  5.46560242,  5.46204143,\n",
       "        5.45849326,  5.45495788,  5.45143522,  5.44792526,  5.44442794,\n",
       "        5.44094322,  5.43747105,  5.43401138,  5.43056418,  5.42712939,\n",
       "        5.42370698,  5.42029689,  5.41689909,  5.41351352,  5.41014015,\n",
       "        5.40677893,  5.40342982,  5.40009277,  5.39676774,  5.39345469,\n",
       "        5.39015357,  5.38686434,  5.38358696,  5.38032138,  5.37706756,\n",
       "        5.37382547,  5.37059505,  5.36737627,  5.36416908,  5.36097345,\n",
       "        5.35778933,  5.35461667,  5.35145544,  5.3483056 ,  5.34516711,\n",
       "        5.34203991,  5.33892399,  5.33581928,  5.33272576,  5.32964339,\n",
       "        5.32657211,  5.3235119 ,  5.32046271,  5.3174245 ,  5.31439724,\n",
       "        5.31138088,  5.30837538,  5.30538071,  5.30239683,  5.2994237 ,\n",
       "        5.29646127,  5.29350951,  5.29056839,  5.28763786,  5.28471789,\n",
       "        5.28180843,  5.27890945,  5.27602092,  5.27314279,  5.27027503,\n",
       "        5.26741759,  5.26457045,  5.26173356,  5.2589069 ,  5.25609041,\n",
       "        5.25328407,  5.25048783,  5.24770167,  5.24492555,  5.24215942,\n",
       "        5.23940326,  5.23665702,  5.23392068,  5.23119419,  5.22847752,\n",
       "        5.22577064,  5.22307351,  5.22038609,  5.21770835,  5.21504026,\n",
       "        5.21238178,  5.20973288,  5.20709351,  5.20446365,  5.20184327,\n",
       "        5.19923232,  5.19663078,  5.19403861,  5.19145577,  5.18888224,\n",
       "        5.18631798,  5.18376295,  5.18121713,  5.17868048,  5.17615296,\n",
       "        5.17363455,  5.17112521,  5.16862491,  5.16613361,  5.16365129,\n",
       "        5.16117791,  5.15871344,  5.15625784,  5.15381109,  5.15137315,\n",
       "        5.148944  ,  5.14652359,  5.1441119 ,  5.1417089 ,  5.13931455,\n",
       "        5.13692883,  5.1345517 ,  5.13218314,  5.1298231 ,  5.12747157,\n",
       "        5.1251285 ,  5.12279388,  5.12046766,  5.11814983,  5.11584034,\n",
       "        5.11353917,  5.11124629,  5.10896167,  5.10668527,  5.10441708,\n",
       "        5.10215706,  5.09990518,  5.0976614 ,  5.09542571,  5.09319808,\n",
       "        5.09097846,  5.08876685,  5.08656319,  5.08436748,  5.08217967,\n",
       "        5.07999975,  5.07782768,  5.07566343,  5.07350697,  5.07135828,\n",
       "        5.06921734,  5.0670841 ,  5.06495855,  5.06284065,  5.06073039,\n",
       "        5.05862772,  5.05653263,  5.05444508,  5.05236505,  5.05029252,\n",
       "        5.04822745,  5.04616982,  5.0441196 ,  5.04207676,  5.04004129,\n",
       "        5.03801314,  5.0359923 ,  5.03397874,  5.03197243,  5.02997335,\n",
       "        5.02798147,  5.02599676,  5.0240192 ,  5.02204877,  5.02008543,\n",
       "        5.01812917,  5.01617995,  5.01423775,  5.01230255,  5.01037431,\n",
       "        5.00845303,  5.00653866,  5.00463119,  5.00273059,  5.00083684,\n",
       "        4.9989499 ,  4.99706977,  4.9951964 ,  4.99332979,  4.99146989,\n",
       "        4.9896167 ,  4.98777018,  4.98593031,  4.98409707,  4.98227043,\n",
       "        4.98045038,  4.97863687,  4.9768299 ,  4.97502944,  4.97323547,\n",
       "        4.97144795,  4.96966687,  4.96789221,  4.96612395,  4.96436205,\n",
       "        4.96260649,  4.96085726,  4.95911433,  4.95737768,  4.95564729,\n",
       "        4.95392312,  4.95220517,  4.95049341,  4.94878781,  4.94708835,\n",
       "        4.94539502,  4.94370778,  4.94202663,  4.94035152,  4.93868246,\n",
       "        4.9370194 ,  4.93536233,  4.93371123,  4.93206608,  4.93042686,\n",
       "        4.92879354,  4.9271661 ,  4.92554453,  4.92392879,  4.92231888,\n",
       "        4.92071476,  4.91911642,  4.91752384,  4.915937  ,  4.91435587,\n",
       "        4.91278043,  4.91121067,  4.90964657,  4.9080881 ,  4.90653524,\n",
       "        4.90498798,  4.90344629,  4.90191015,  4.90037954,  4.89885445,\n",
       "        4.89733485,  4.89582073,  4.89431206,  4.89280882,  4.891311  ,\n",
       "        4.88981857,  4.88833152,  4.88684982,  4.88537346,  4.88390242,\n",
       "        4.88243668,  4.88097622,  4.87952102,  4.87807106,  4.87662632,\n",
       "        4.87518678,  4.87375243,  4.87232325,  4.87089922,  4.86948031,\n",
       "        4.86806652,  4.86665782,  4.86525419,  4.86385562,  4.86246208,\n",
       "        4.86107357,  4.85969005,  4.85831152,  4.85693796,  4.85556934,\n",
       "        4.85420565,  4.85284687,  4.85149299,  4.85014399,  4.84879984,\n",
       "        4.84746054,  4.84612606,  4.84479638,  4.8434715 ,  4.84215138,\n",
       "        4.84083603,  4.83952541,  4.83821951,  4.83691831,  4.83562181,\n",
       "        4.83432997,  4.83304278,  4.83176023,  4.83048231,  4.82920898,\n",
       "        4.82794024,  4.82667607,  4.82541645,  4.82416138,  4.82291082,\n",
       "        4.82166476,  4.8204232 ,  4.8191861 ,  4.81795347,  4.81672527,\n",
       "        4.81550149,  4.81428213,  4.81306715,  4.81185656,  4.81065032,\n",
       "        4.80944843,  4.80825086,  4.80705761,  4.80586866,  4.80468399,\n",
       "        4.80350359,  4.80232744,  4.80115553,  4.79998784,  4.79882435,\n",
       "        4.79766505,  4.79650993,  4.79535897,  4.79421216,  4.79306948,\n",
       "        4.79193091,  4.79079644,  4.78966606,  4.78853976,  4.7874175 ,\n",
       "        4.7862993 ,  4.78518511,  4.78407495,  4.78296878,  4.78186659,\n",
       "        4.78076838,  4.77967412,  4.7785838 ,  4.77749741,  4.77641493,\n",
       "        4.77533635,  4.77426166,  4.77319084,  4.77212387,  4.77106075,\n",
       "        4.77000146,  4.76894598,  4.7678943 ,  4.76684642,  4.7658023 ,\n",
       "        4.76476195,  4.76372535,  4.76269247,  4.76166332,  4.76063788,\n",
       "        4.75961613,  4.75859806,  4.75758366,  4.75657291,  4.7555658 ,\n",
       "        4.75456232,  4.75356245,  4.75256619,  4.75157351,  4.75058441,\n",
       "        4.74959887,  4.74861688,  4.74763843,  4.7466635 ,  4.74569209,\n",
       "        4.74472417,  4.74375974,  4.74279878,  4.74184129,  4.74088724,\n",
       "        4.73993663,  4.73898945,  4.73804567,  4.7371053 ,  4.73616831,\n",
       "        4.7352347 ,  4.73430445,  4.73337755,  4.73245399,  4.73153376,\n",
       "        4.73061684,  4.72970322,  4.7287929 ,  4.72788585,  4.72698207,\n",
       "        4.72608155,  4.72518427,  4.72429022,  4.72339939,  4.72251177,\n",
       "        4.72162735,  4.72074611,  4.71986805,  4.71899315,  4.7181214 ,\n",
       "        4.71725279,  4.71638731,  4.71552495,  4.71466569,  4.71380953,\n",
       "        4.71295645,  4.71210645,  4.71125951,  4.71041561,  4.70957476,\n",
       "        4.70873694,  4.70790213,  4.70707033,  4.70624153,  4.70541571,\n",
       "        4.70459287,  4.70377299,  4.70295606,  4.70214208,  4.70133103,\n",
       "        4.7005229 ,  4.69971768,  4.69891536,  4.69811593,  4.69731938,\n",
       "        4.6965257 ,  4.69573487,  4.6949469 ,  4.69416177,  4.69337946,\n",
       "        4.69259997,  4.69182329,  4.6910494 ,  4.69027831,  4.68950999,\n",
       "        4.68874444,  4.68798164,  4.68722159,  4.68646428,  4.6857097 ,\n",
       "        4.68495784,  4.68420868,  4.68346223,  4.68271846,  4.68197737,\n",
       "        4.68123895,  4.68050319,  4.67977008,  4.67903961,  4.67831177,\n",
       "        4.67758656,  4.67686395,  4.67614395,  4.67542654,  4.67471172,\n",
       "        4.67399947,  4.67328979,  4.67258266,  4.67187808,  4.67117604,\n",
       "        4.67047652,  4.66977953,  4.66908504,  4.66839306,  4.66770357,\n",
       "        4.66701656,  4.66633203,  4.66564997,  4.66497036,  4.6642932 ,\n",
       "        4.66361847,  4.66294618,  4.66227631,  4.66160885,  4.6609438 ,\n",
       "        4.66028114,  4.65962087,  4.65896298,  4.65830745,  4.65765429,\n",
       "        4.65700348,  4.65635502,  4.65570889,  4.65506509,  4.6544236 ,\n",
       "        4.65378443,  4.65314756,  4.65251298,  4.65188069,  4.65125068,\n",
       "        4.65062293,  4.64999745,  4.64937422,  4.64875324,  4.64813449,\n",
       "        4.64751797,  4.64690367,  4.64629158,  4.6456817 ,  4.64507402,\n",
       "        4.64446852,  4.64386521,  4.64326406,  4.64266509,  4.64206827,\n",
       "        4.6414736 ,  4.64088107,  4.64029068,  4.63970241,  4.63911626,\n",
       "        4.63853223,  4.63795029,  4.63737046,  4.63679271,  4.63621704,\n",
       "        4.63564345,  4.63507192,  4.63450245,  4.63393503,  4.63336966,\n",
       "        4.63280632,  4.63224501,  4.63168573,  4.63112845,  4.63057319,\n",
       "        4.63001992,  4.62946865,  4.62891937,  4.62837206,  4.62782672,\n",
       "        4.62728335,  4.62674193,  4.62620247,  4.62566495,  4.62512936,\n",
       "        4.62459571,  4.62406397,  4.62353415,  4.62300624,  4.62248023,\n",
       "        4.62195612,  4.62143389,  4.62091355,  4.62039507,  4.61987847,\n",
       "        4.61936373,  4.61885084,  4.6183398 ,  4.6178306 ,  4.61732323,\n",
       "        4.61681769,  4.61631397,  4.61581207,  4.61531197,  4.61481368,\n",
       "        4.61431718,  4.61382246,  4.61332954,  4.61283838,  4.612349  ,\n",
       "        4.61186137,  4.61137551,  4.61089139,  4.61040902,  4.60992838,\n",
       "        4.60944948,  4.6089723 ,  4.60849684,  4.6080231 ,  4.60755106,\n",
       "        4.60708071,  4.60661207,  4.60614511,  4.60567983,  4.60521623,\n",
       "        4.6047543 ,  4.60429404,  4.60383543,  4.60337847,  4.60292316,\n",
       "        4.60246949,  4.60201745,  4.60156704,  4.60111826,  4.60067109,\n",
       "        4.60022553,  4.59978157,  4.59933922,  4.59889846,  4.59845928,\n",
       "        4.59802169,  4.59758567,  4.59715123,  4.59671835,  4.59628702,\n",
       "        4.59585726,  4.59542904,  4.59500236,  4.59457722,  4.59415361,\n",
       "        4.59373152,  4.59331096,  4.59289191,  4.59247437,  4.59205834,\n",
       "        4.5916438 ,  4.59123076,  4.5908192 ,  4.59040913,  4.59000053,\n",
       "        4.58959341,  4.58918775,  4.58878355,  4.58838081,  4.58797952,\n",
       "        4.58757968,  4.58718127,  4.5867843 ,  4.58638876,  4.58599465,\n",
       "        4.58560195,  4.58521067,  4.5848208 ,  4.58443233,  4.58404526,\n",
       "        4.58365959,  4.58327531,  4.5828924 ,  4.58251088,  4.58213074,\n",
       "        4.58175196,  4.58137454,  4.58099849,  4.58062379,  4.58025044,\n",
       "        4.57987844,  4.57950777,  4.57913844,  4.57877044,  4.57840377,\n",
       "        4.57803841,  4.57767437,  4.57731165,  4.57695023,  4.57659011,\n",
       "        4.57623129,  4.57587376,  4.57551752,  4.57516256,  4.57480888,\n",
       "        4.57445648,  4.57410534,  4.57375547,  4.57340686,  4.57305951,\n",
       "        4.5727134 ,  4.57236854,  4.57202493,  4.57168255,  4.57134141,\n",
       "        4.57100149,  4.5706628 ,  4.57032533,  4.56998908,  4.56965403,\n",
       "        4.56932019,  4.56898756,  4.56865612,  4.56832588,  4.56799682,\n",
       "        4.56766896,  4.56734227,  4.56701676,  4.56669242,  4.56636925,\n",
       "        4.56604724,  4.5657264 ,  4.56540671,  4.56508817,  4.56477078,\n",
       "        4.56445453,  4.56413942,  4.56382544,  4.5635126 ,  4.56320088,\n",
       "        4.56289029,  4.56258082,  4.56227246,  4.56196521,  4.56165906,\n",
       "        4.56135402,  4.56105008,  4.56074723,  4.56044548,  4.56014481,\n",
       "        4.55984522,  4.55954672,  4.55924929,  4.55895293,  4.55865763,\n",
       "        4.5583634 ,  4.55807023,  4.55777812,  4.55748706,  4.55719705,\n",
       "        4.55690808,  4.55662015,  4.55633326,  4.5560474 ,  4.55576258,\n",
       "        4.55547878,  4.555196  ,  4.55491424,  4.55463349,  4.55435376,\n",
       "        4.55407503,  4.55379731,  4.55352058,  4.55324486,  4.55297012,\n",
       "        4.55269638,  4.55242362,  4.55215185,  4.55188105,  4.55161123,\n",
       "        4.55134239,  4.55107451,  4.55080759,  4.55054164,  4.55027664,\n",
       "        4.5500126 ,  4.54974951,  4.54948737,  4.54922617,  4.54896591,\n",
       "        4.54870659,  4.5484482 ,  4.54819075,  4.54793422,  4.54767862,\n",
       "        4.54742393,  4.54717017,  4.54691731,  4.54666537,  4.54641434,\n",
       "        4.54616421,  4.54591498,  4.54566665,  4.54541921,  4.54517267,\n",
       "        4.54492701,  4.54468224,  4.54443835,  4.54419534,  4.5439532 ,\n",
       "        4.54371194,  4.54347154,  4.54323201,  4.54299334,  4.54275554,\n",
       "        4.54251859,  4.54228249,  4.54204724,  4.54181284,  4.54157929,\n",
       "        4.54134657,  4.5411147 ,  4.54088366,  4.54065345,  4.54042407,\n",
       "        4.54019552,  4.53996779,  4.53974088,  4.53951478,  4.53928951,\n",
       "        4.53906504,  4.53884138,  4.53861853,  4.53839648,  4.53817523,\n",
       "        4.53795478,  4.53773512,  4.53751625,  4.53729817,  4.53708088,\n",
       "        4.53686437,  4.53664864,  4.53643368,  4.5362195 ,  4.5360061 ,\n",
       "        4.53579346,  4.53558158,  4.53537047,  4.53516012,  4.53495053,\n",
       "        4.53474169,  4.53453361,  4.53432627,  4.53411968,  4.53391384,\n",
       "        4.53370873,  4.53350437,  4.53330074,  4.53309784,  4.53289568,\n",
       "        4.53269424,  4.53249353,  4.53229355,  4.53209428,  4.53189573,\n",
       "        4.53169789,  4.53150077,  4.53130436,  4.53110866,  4.53091366,\n",
       "        4.53071936,  4.53052576,  4.53033286,  4.53014066,  4.52994915,\n",
       "        4.52975832,  4.52956819,  4.52937874,  4.52918997,  4.52900188,\n",
       "        4.52881447,  4.52862773,  4.52844167,  4.52825628,  4.52807155,\n",
       "        4.52788749,  4.52770409,  4.52752136,  4.52733928,  4.52715786,\n",
       "        4.52697709,  4.52679697,  4.5266175 ,  4.52643868,  4.5262605 ,\n",
       "        4.52608297,  4.52590607,  4.52572981,  4.52555418,  4.52537919,\n",
       "        4.52520483,  4.52503109,  4.52485799,  4.5246855 ,  4.52451364,\n",
       "        4.52434239,  4.52417177,  4.52400175,  4.52383235,  4.52366356,\n",
       "        4.52349538,  4.5233278 ,  4.52316083,  4.52299446,  4.52282868,\n",
       "        4.52266351,  4.52249893,  4.52233494,  4.52217154,  4.52200874,\n",
       "        4.52184651,  4.52168488,  4.52152382,  4.52136335,  4.52120345,\n",
       "        4.52104413,  4.52088538,  4.5207272 ,  4.5205696 ,  4.52041256,\n",
       "        4.52025609,  4.52010018,  4.51994483,  4.51979004,  4.51963581,\n",
       "        4.51948214,  4.51932902,  4.51917645,  4.51902443,  4.51887295,\n",
       "        4.51872203,  4.51857164,  4.5184218 ,  4.5182725 ,  4.51812373,\n",
       "        4.51797551,  4.51782781,  4.51768065,  4.51753402,  4.51738791,\n",
       "        4.51724233,  4.51709728,  4.51695275,  4.51680874,  4.51666525,\n",
       "        4.51652227,  4.51637981,  4.51623786,  4.51609643,  4.5159555 ])"
      ]
     },
     "execution_count": 21,
     "metadata": {},
     "output_type": "execute_result"
    }
   ],
   "source": [
    "cost"
   ]
  },
  {
   "cell_type": "code",
   "execution_count": 22,
   "metadata": {
    "collapsed": false
   },
   "outputs": [
    {
     "data": {
      "text/plain": [
       "4.5159555030789118"
      ]
     },
     "execution_count": 22,
     "metadata": {},
     "output_type": "execute_result"
    }
   ],
   "source": [
    "Cost(X,y,g)"
   ]
  },
  {
   "cell_type": "code",
   "execution_count": 24,
   "metadata": {
    "collapsed": false
   },
   "outputs": [
    {
     "data": {
      "text/plain": [
       "<matplotlib.text.Text at 0xc65a8d0>"
      ]
     },
     "execution_count": 24,
     "metadata": {},
     "output_type": "execute_result"
    },
    {
     "data": {
      "image/png": "[encoded data removed]",
      "text/plain": [
       "<matplotlib.figure.Figure at 0xc6380b8>"
      ]
     },
     "metadata": {},
     "output_type": "display_data"
    }
   ],
   "source": [
    "x = np.linspace(data.Population.min(), data.Population.max(), 100)\n",
    "f = g[0,0] + (g[0,1] * x)\n",
    "fig, ax = plt.subplots(figsize=(12,8))\n",
    "ax.plot(x,f,'r',label='Prediction')\n",
    "\n",
    "ax.scatter(data.Population, data.Profit, label = 'Training Data')\n",
    "ax.legend(loc = 2)\n",
    "ax.set_xlabel('Population')\n",
    "ax.set_ylabel('Profit')\n",
    "ax.set_title('Predicted Profit vs Population Size')"
   ]
  },
  {
   "cell_type": "code",
   "execution_count": 25,
   "metadata": {
    "collapsed": false
   },
   "outputs": [
    {
     "data": {
      "text/plain": [
       "<matplotlib.text.Text at 0xc8760f0>"
      ]
     },
     "execution_count": 25,
     "metadata": {},
     "output_type": "execute_result"
    },
    {
     "data": {
      "image/png": "[encoded data removed]",
      "text/plain": [
       "<matplotlib.figure.Figure at 0xc64d9e8>"
      ]
     },
     "metadata": {},
     "output_type": "display_data"
    }
   ],
   "source": [
    "fig, ax = plt.subplots(figsize = (12,8))\n",
    "ax.plot(np.arange(iters), cost,'r')\n",
    "ax.set_xlabel('Iterations')\n",
    "ax.set_ylabel('Cost')\n",
    "ax.set_title('Error vs. Training Epoch')"
   ]
  },
  {
   "cell_type": "code",
   "execution_count": 27,
   "metadata": {
    "collapsed": false
   },
   "outputs": [
    {
     "data": {
      "text/html": [
       "<div>\n",
       "<table border=\"1\" class=\"dataframe\">\n",
       "  <thead>\n",
       "    <tr style=\"text-align: right;\">\n",
       "      <th></th>\n",
       "      <th>Size</th>\n",
       "      <th>Bedrooms</th>\n",
       "      <th>Price</th>\n",
       "    </tr>\n",
       "  </thead>\n",
       "  <tbody>\n",
       "    <tr>\n",
       "      <th>0</th>\n",
       "      <td>2104</td>\n",
       "      <td>3</td>\n",
       "      <td>399900</td>\n",
       "    </tr>\n",
       "    <tr>\n",
       "      <th>1</th>\n",
       "      <td>1600</td>\n",
       "      <td>3</td>\n",
       "      <td>329900</td>\n",
       "    </tr>\n",
       "    <tr>\n",
       "      <th>2</th>\n",
       "      <td>2400</td>\n",
       "      <td>3</td>\n",
       "      <td>369000</td>\n",
       "    </tr>\n",
       "    <tr>\n",
       "      <th>3</th>\n",
       "      <td>1416</td>\n",
       "      <td>2</td>\n",
       "      <td>232000</td>\n",
       "    </tr>\n",
       "    <tr>\n",
       "      <th>4</th>\n",
       "      <td>3000</td>\n",
       "      <td>4</td>\n",
       "      <td>539900</td>\n",
       "    </tr>\n",
       "  </tbody>\n",
       "</table>\n",
       "</div>"
      ],
      "text/plain": [
       "   Size  Bedrooms   Price\n",
       "0  2104         3  399900\n",
       "1  1600         3  329900\n",
       "2  2400         3  369000\n",
       "3  1416         2  232000\n",
       "4  3000         4  539900"
      ]
     },
     "execution_count": 27,
     "metadata": {},
     "output_type": "execute_result"
    }
   ],
   "source": [
    "path = os.getcwd() + '\\Downloads\\data_nb\\ex1data2.txt'\n",
    "data2 = pd.read_csv(path, header = None, names = ['Size', 'Bedrooms','Price'])\n",
    "data2.head()"
   ]
  },
  {
   "cell_type": "code",
   "execution_count": 28,
   "metadata": {
    "collapsed": false
   },
   "outputs": [
    {
     "data": {
      "text/html": [
       "<div>\n",
       "<table border=\"1\" class=\"dataframe\">\n",
       "  <thead>\n",
       "    <tr style=\"text-align: right;\">\n",
       "      <th></th>\n",
       "      <th>Size</th>\n",
       "      <th>Bedrooms</th>\n",
       "      <th>Price</th>\n",
       "    </tr>\n",
       "  </thead>\n",
       "  <tbody>\n",
       "    <tr>\n",
       "      <th>count</th>\n",
       "      <td>47.000000</td>\n",
       "      <td>47.000000</td>\n",
       "      <td>47.000000</td>\n",
       "    </tr>\n",
       "    <tr>\n",
       "      <th>mean</th>\n",
       "      <td>2000.680851</td>\n",
       "      <td>3.170213</td>\n",
       "      <td>340412.659574</td>\n",
       "    </tr>\n",
       "    <tr>\n",
       "      <th>std</th>\n",
       "      <td>794.702354</td>\n",
       "      <td>0.760982</td>\n",
       "      <td>125039.899586</td>\n",
       "    </tr>\n",
       "    <tr>\n",
       "      <th>min</th>\n",
       "      <td>852.000000</td>\n",
       "      <td>1.000000</td>\n",
       "      <td>169900.000000</td>\n",
       "    </tr>\n",
       "    <tr>\n",
       "      <th>25%</th>\n",
       "      <td>1432.000000</td>\n",
       "      <td>3.000000</td>\n",
       "      <td>249900.000000</td>\n",
       "    </tr>\n",
       "    <tr>\n",
       "      <th>50%</th>\n",
       "      <td>1888.000000</td>\n",
       "      <td>3.000000</td>\n",
       "      <td>299900.000000</td>\n",
       "    </tr>\n",
       "    <tr>\n",
       "      <th>75%</th>\n",
       "      <td>2269.000000</td>\n",
       "      <td>4.000000</td>\n",
       "      <td>384450.000000</td>\n",
       "    </tr>\n",
       "    <tr>\n",
       "      <th>max</th>\n",
       "      <td>4478.000000</td>\n",
       "      <td>5.000000</td>\n",
       "      <td>699900.000000</td>\n",
       "    </tr>\n",
       "  </tbody>\n",
       "</table>\n",
       "</div>"
      ],
      "text/plain": [
       "              Size   Bedrooms          Price\n",
       "count    47.000000  47.000000      47.000000\n",
       "mean   2000.680851   3.170213  340412.659574\n",
       "std     794.702354   0.760982  125039.899586\n",
       "min     852.000000   1.000000  169900.000000\n",
       "25%    1432.000000   3.000000  249900.000000\n",
       "50%    1888.000000   3.000000  299900.000000\n",
       "75%    2269.000000   4.000000  384450.000000\n",
       "max    4478.000000   5.000000  699900.000000"
      ]
     },
     "execution_count": 28,
     "metadata": {},
     "output_type": "execute_result"
    }
   ],
   "source": [
    "data2.describe()"
   ]
  },
  {
   "cell_type": "code",
   "execution_count": 29,
   "metadata": {
    "collapsed": true
   },
   "outputs": [],
   "source": [
    "data2 = (data2 - data2.mean()) /data2.std()"
   ]
  },
  {
   "cell_type": "code",
   "execution_count": 30,
   "metadata": {
    "collapsed": false
   },
   "outputs": [
    {
     "data": {
      "text/html": [
       "<div>\n",
       "<table border=\"1\" class=\"dataframe\">\n",
       "  <thead>\n",
       "    <tr style=\"text-align: right;\">\n",
       "      <th></th>\n",
       "      <th>Size</th>\n",
       "      <th>Bedrooms</th>\n",
       "      <th>Price</th>\n",
       "    </tr>\n",
       "  </thead>\n",
       "  <tbody>\n",
       "    <tr>\n",
       "      <th>0</th>\n",
       "      <td>0.130010</td>\n",
       "      <td>-0.223675</td>\n",
       "      <td>0.475747</td>\n",
       "    </tr>\n",
       "    <tr>\n",
       "      <th>1</th>\n",
       "      <td>-0.504190</td>\n",
       "      <td>-0.223675</td>\n",
       "      <td>-0.084074</td>\n",
       "    </tr>\n",
       "    <tr>\n",
       "      <th>2</th>\n",
       "      <td>0.502476</td>\n",
       "      <td>-0.223675</td>\n",
       "      <td>0.228626</td>\n",
       "    </tr>\n",
       "    <tr>\n",
       "      <th>3</th>\n",
       "      <td>-0.735723</td>\n",
       "      <td>-1.537767</td>\n",
       "      <td>-0.867025</td>\n",
       "    </tr>\n",
       "    <tr>\n",
       "      <th>4</th>\n",
       "      <td>1.257476</td>\n",
       "      <td>1.090417</td>\n",
       "      <td>1.595389</td>\n",
       "    </tr>\n",
       "    <tr>\n",
       "      <th>5</th>\n",
       "      <td>-0.019732</td>\n",
       "      <td>1.090417</td>\n",
       "      <td>-0.323998</td>\n",
       "    </tr>\n",
       "    <tr>\n",
       "      <th>6</th>\n",
       "      <td>-0.587240</td>\n",
       "      <td>-0.223675</td>\n",
       "      <td>-0.204036</td>\n",
       "    </tr>\n",
       "    <tr>\n",
       "      <th>7</th>\n",
       "      <td>-0.721881</td>\n",
       "      <td>-0.223675</td>\n",
       "      <td>-1.130948</td>\n",
       "    </tr>\n",
       "    <tr>\n",
       "      <th>8</th>\n",
       "      <td>-0.781023</td>\n",
       "      <td>-0.223675</td>\n",
       "      <td>-1.026973</td>\n",
       "    </tr>\n",
       "    <tr>\n",
       "      <th>9</th>\n",
       "      <td>-0.637573</td>\n",
       "      <td>-0.223675</td>\n",
       "      <td>-0.783051</td>\n",
       "    </tr>\n",
       "    <tr>\n",
       "      <th>10</th>\n",
       "      <td>-0.076357</td>\n",
       "      <td>1.090417</td>\n",
       "      <td>-0.803053</td>\n",
       "    </tr>\n",
       "    <tr>\n",
       "      <th>11</th>\n",
       "      <td>-0.000857</td>\n",
       "      <td>-0.223675</td>\n",
       "      <td>0.052682</td>\n",
       "    </tr>\n",
       "    <tr>\n",
       "      <th>12</th>\n",
       "      <td>-0.139273</td>\n",
       "      <td>-0.223675</td>\n",
       "      <td>-0.083283</td>\n",
       "    </tr>\n",
       "    <tr>\n",
       "      <th>13</th>\n",
       "      <td>3.117292</td>\n",
       "      <td>2.404508</td>\n",
       "      <td>2.874981</td>\n",
       "    </tr>\n",
       "    <tr>\n",
       "      <th>14</th>\n",
       "      <td>-0.921956</td>\n",
       "      <td>-0.223675</td>\n",
       "      <td>-0.643896</td>\n",
       "    </tr>\n",
       "    <tr>\n",
       "      <th>15</th>\n",
       "      <td>0.376643</td>\n",
       "      <td>1.090417</td>\n",
       "      <td>0.875619</td>\n",
       "    </tr>\n",
       "    <tr>\n",
       "      <th>16</th>\n",
       "      <td>-0.856523</td>\n",
       "      <td>-1.537767</td>\n",
       "      <td>-0.323998</td>\n",
       "    </tr>\n",
       "    <tr>\n",
       "      <th>17</th>\n",
       "      <td>-0.962223</td>\n",
       "      <td>-0.223675</td>\n",
       "      <td>-1.123743</td>\n",
       "    </tr>\n",
       "    <tr>\n",
       "      <th>18</th>\n",
       "      <td>0.765468</td>\n",
       "      <td>1.090417</td>\n",
       "      <td>1.276275</td>\n",
       "    </tr>\n",
       "    <tr>\n",
       "      <th>19</th>\n",
       "      <td>1.296484</td>\n",
       "      <td>1.090417</td>\n",
       "      <td>2.068039</td>\n",
       "    </tr>\n",
       "    <tr>\n",
       "      <th>20</th>\n",
       "      <td>-0.294048</td>\n",
       "      <td>-0.223675</td>\n",
       "      <td>-0.699878</td>\n",
       "    </tr>\n",
       "    <tr>\n",
       "      <th>21</th>\n",
       "      <td>-0.141790</td>\n",
       "      <td>-1.537767</td>\n",
       "      <td>-0.683083</td>\n",
       "    </tr>\n",
       "    <tr>\n",
       "      <th>22</th>\n",
       "      <td>-0.499157</td>\n",
       "      <td>-0.223675</td>\n",
       "      <td>-0.779852</td>\n",
       "    </tr>\n",
       "    <tr>\n",
       "      <th>23</th>\n",
       "      <td>-0.048673</td>\n",
       "      <td>1.090417</td>\n",
       "      <td>-0.643896</td>\n",
       "    </tr>\n",
       "    <tr>\n",
       "      <th>24</th>\n",
       "      <td>2.377392</td>\n",
       "      <td>-0.223675</td>\n",
       "      <td>1.867303</td>\n",
       "    </tr>\n",
       "    <tr>\n",
       "      <th>25</th>\n",
       "      <td>-1.133356</td>\n",
       "      <td>-0.223675</td>\n",
       "      <td>-0.723870</td>\n",
       "    </tr>\n",
       "    <tr>\n",
       "      <th>26</th>\n",
       "      <td>-0.682873</td>\n",
       "      <td>-0.223675</td>\n",
       "      <td>0.992382</td>\n",
       "    </tr>\n",
       "    <tr>\n",
       "      <th>27</th>\n",
       "      <td>0.661026</td>\n",
       "      <td>-0.223675</td>\n",
       "      <td>1.028370</td>\n",
       "    </tr>\n",
       "    <tr>\n",
       "      <th>28</th>\n",
       "      <td>0.250810</td>\n",
       "      <td>-0.223675</td>\n",
       "      <td>1.076355</td>\n",
       "    </tr>\n",
       "    <tr>\n",
       "      <th>29</th>\n",
       "      <td>0.800701</td>\n",
       "      <td>-0.223675</td>\n",
       "      <td>-0.323998</td>\n",
       "    </tr>\n",
       "    <tr>\n",
       "      <th>30</th>\n",
       "      <td>-0.203448</td>\n",
       "      <td>-1.537767</td>\n",
       "      <td>0.075875</td>\n",
       "    </tr>\n",
       "    <tr>\n",
       "      <th>31</th>\n",
       "      <td>-1.259189</td>\n",
       "      <td>-2.851859</td>\n",
       "      <td>-1.363666</td>\n",
       "    </tr>\n",
       "    <tr>\n",
       "      <th>32</th>\n",
       "      <td>0.049477</td>\n",
       "      <td>1.090417</td>\n",
       "      <td>-0.204036</td>\n",
       "    </tr>\n",
       "    <tr>\n",
       "      <th>33</th>\n",
       "      <td>1.429868</td>\n",
       "      <td>-0.223675</td>\n",
       "      <td>1.915287</td>\n",
       "    </tr>\n",
       "    <tr>\n",
       "      <th>34</th>\n",
       "      <td>-0.238682</td>\n",
       "      <td>1.090417</td>\n",
       "      <td>-0.435962</td>\n",
       "    </tr>\n",
       "    <tr>\n",
       "      <th>35</th>\n",
       "      <td>-0.709298</td>\n",
       "      <td>-0.223675</td>\n",
       "      <td>-0.723870</td>\n",
       "    </tr>\n",
       "    <tr>\n",
       "      <th>36</th>\n",
       "      <td>-0.958448</td>\n",
       "      <td>-0.223675</td>\n",
       "      <td>-0.883819</td>\n",
       "    </tr>\n",
       "    <tr>\n",
       "      <th>37</th>\n",
       "      <td>0.165243</td>\n",
       "      <td>1.090417</td>\n",
       "      <td>0.036687</td>\n",
       "    </tr>\n",
       "    <tr>\n",
       "      <th>38</th>\n",
       "      <td>2.786350</td>\n",
       "      <td>1.090417</td>\n",
       "      <td>1.668166</td>\n",
       "    </tr>\n",
       "    <tr>\n",
       "      <th>39</th>\n",
       "      <td>0.202993</td>\n",
       "      <td>1.090417</td>\n",
       "      <td>-0.427165</td>\n",
       "    </tr>\n",
       "    <tr>\n",
       "      <th>40</th>\n",
       "      <td>-0.423657</td>\n",
       "      <td>-1.537767</td>\n",
       "      <td>0.224627</td>\n",
       "    </tr>\n",
       "    <tr>\n",
       "      <th>41</th>\n",
       "      <td>0.298626</td>\n",
       "      <td>-0.223675</td>\n",
       "      <td>-0.084074</td>\n",
       "    </tr>\n",
       "    <tr>\n",
       "      <th>42</th>\n",
       "      <td>0.712618</td>\n",
       "      <td>1.090417</td>\n",
       "      <td>-0.211234</td>\n",
       "    </tr>\n",
       "    <tr>\n",
       "      <th>43</th>\n",
       "      <td>-1.007523</td>\n",
       "      <td>-0.223675</td>\n",
       "      <td>-0.331196</td>\n",
       "    </tr>\n",
       "    <tr>\n",
       "      <th>44</th>\n",
       "      <td>-1.445423</td>\n",
       "      <td>-1.537767</td>\n",
       "      <td>-1.283692</td>\n",
       "    </tr>\n",
       "    <tr>\n",
       "      <th>45</th>\n",
       "      <td>-0.187090</td>\n",
       "      <td>1.090417</td>\n",
       "      <td>-0.323998</td>\n",
       "    </tr>\n",
       "    <tr>\n",
       "      <th>46</th>\n",
       "      <td>-1.003748</td>\n",
       "      <td>-0.223675</td>\n",
       "      <td>-0.807044</td>\n",
       "    </tr>\n",
       "  </tbody>\n",
       "</table>\n",
       "</div>"
      ],
      "text/plain": [
       "        Size  Bedrooms     Price\n",
       "0   0.130010 -0.223675  0.475747\n",
       "1  -0.504190 -0.223675 -0.084074\n",
       "2   0.502476 -0.223675  0.228626\n",
       "3  -0.735723 -1.537767 -0.867025\n",
       "4   1.257476  1.090417  1.595389\n",
       "5  -0.019732  1.090417 -0.323998\n",
       "6  -0.587240 -0.223675 -0.204036\n",
       "7  -0.721881 -0.223675 -1.130948\n",
       "8  -0.781023 -0.223675 -1.026973\n",
       "9  -0.637573 -0.223675 -0.783051\n",
       "10 -0.076357  1.090417 -0.803053\n",
       "11 -0.000857 -0.223675  0.052682\n",
       "12 -0.139273 -0.223675 -0.083283\n",
       "13  3.117292  2.404508  2.874981\n",
       "14 -0.921956 -0.223675 -0.643896\n",
       "15  0.376643  1.090417  0.875619\n",
       "16 -0.856523 -1.537767 -0.323998\n",
       "17 -0.962223 -0.223675 -1.123743\n",
       "18  0.765468  1.090417  1.276275\n",
       "19  1.296484  1.090417  2.068039\n",
       "20 -0.294048 -0.223675 -0.699878\n",
       "21 -0.141790 -1.537767 -0.683083\n",
       "22 -0.499157 -0.223675 -0.779852\n",
       "23 -0.048673  1.090417 -0.643896\n",
       "24  2.377392 -0.223675  1.867303\n",
       "25 -1.133356 -0.223675 -0.723870\n",
       "26 -0.682873 -0.223675  0.992382\n",
       "27  0.661026 -0.223675  1.028370\n",
       "28  0.250810 -0.223675  1.076355\n",
       "29  0.800701 -0.223675 -0.323998\n",
       "30 -0.203448 -1.537767  0.075875\n",
       "31 -1.259189 -2.851859 -1.363666\n",
       "32  0.049477  1.090417 -0.204036\n",
       "33  1.429868 -0.223675  1.915287\n",
       "34 -0.238682  1.090417 -0.435962\n",
       "35 -0.709298 -0.223675 -0.723870\n",
       "36 -0.958448 -0.223675 -0.883819\n",
       "37  0.165243  1.090417  0.036687\n",
       "38  2.786350  1.090417  1.668166\n",
       "39  0.202993  1.090417 -0.427165\n",
       "40 -0.423657 -1.537767  0.224627\n",
       "41  0.298626 -0.223675 -0.084074\n",
       "42  0.712618  1.090417 -0.211234\n",
       "43 -1.007523 -0.223675 -0.331196\n",
       "44 -1.445423 -1.537767 -1.283692\n",
       "45 -0.187090  1.090417 -0.323998\n",
       "46 -1.003748 -0.223675 -0.807044"
      ]
     },
     "execution_count": 30,
     "metadata": {},
     "output_type": "execute_result"
    }
   ],
   "source": [
    "data2"
   ]
  },
  {
   "cell_type": "code",
   "execution_count": 32,
   "metadata": {
    "collapsed": false
   },
   "outputs": [
    {
     "data": {
      "text/html": [
       "<div>\n",
       "<table border=\"1\" class=\"dataframe\">\n",
       "  <thead>\n",
       "    <tr style=\"text-align: right;\">\n",
       "      <th></th>\n",
       "      <th>Size</th>\n",
       "      <th>Bedrooms</th>\n",
       "      <th>Price</th>\n",
       "    </tr>\n",
       "  </thead>\n",
       "  <tbody>\n",
       "    <tr>\n",
       "      <th>count</th>\n",
       "      <td>4.700000e+01</td>\n",
       "      <td>4.700000e+01</td>\n",
       "      <td>4.700000e+01</td>\n",
       "    </tr>\n",
       "    <tr>\n",
       "      <th>mean</th>\n",
       "      <td>1.889741e-17</td>\n",
       "      <td>2.279500e-16</td>\n",
       "      <td>-8.031401e-17</td>\n",
       "    </tr>\n",
       "    <tr>\n",
       "      <th>std</th>\n",
       "      <td>1.000000e+00</td>\n",
       "      <td>1.000000e+00</td>\n",
       "      <td>1.000000e+00</td>\n",
       "    </tr>\n",
       "    <tr>\n",
       "      <th>min</th>\n",
       "      <td>-1.445423e+00</td>\n",
       "      <td>-2.851859e+00</td>\n",
       "      <td>-1.363666e+00</td>\n",
       "    </tr>\n",
       "    <tr>\n",
       "      <th>25%</th>\n",
       "      <td>-7.155897e-01</td>\n",
       "      <td>-2.236752e-01</td>\n",
       "      <td>-7.238702e-01</td>\n",
       "    </tr>\n",
       "    <tr>\n",
       "      <th>50%</th>\n",
       "      <td>-1.417900e-01</td>\n",
       "      <td>-2.236752e-01</td>\n",
       "      <td>-3.239979e-01</td>\n",
       "    </tr>\n",
       "    <tr>\n",
       "      <th>75%</th>\n",
       "      <td>3.376348e-01</td>\n",
       "      <td>1.090417e+00</td>\n",
       "      <td>3.521863e-01</td>\n",
       "    </tr>\n",
       "    <tr>\n",
       "      <th>max</th>\n",
       "      <td>3.117292e+00</td>\n",
       "      <td>2.404508e+00</td>\n",
       "      <td>2.874981e+00</td>\n",
       "    </tr>\n",
       "  </tbody>\n",
       "</table>\n",
       "</div>"
      ],
      "text/plain": [
       "               Size      Bedrooms         Price\n",
       "count  4.700000e+01  4.700000e+01  4.700000e+01\n",
       "mean   1.889741e-17  2.279500e-16 -8.031401e-17\n",
       "std    1.000000e+00  1.000000e+00  1.000000e+00\n",
       "min   -1.445423e+00 -2.851859e+00 -1.363666e+00\n",
       "25%   -7.155897e-01 -2.236752e-01 -7.238702e-01\n",
       "50%   -1.417900e-01 -2.236752e-01 -3.239979e-01\n",
       "75%    3.376348e-01  1.090417e+00  3.521863e-01\n",
       "max    3.117292e+00  2.404508e+00  2.874981e+00"
      ]
     },
     "execution_count": 32,
     "metadata": {},
     "output_type": "execute_result"
    }
   ],
   "source": [
    "data2.describe()"
   ]
  },
  {
   "cell_type": "code",
   "execution_count": 33,
   "metadata": {
    "collapsed": true
   },
   "outputs": [],
   "source": [
    "data2.insert(0,'Ones',1)"
   ]
  },
  {
   "cell_type": "code",
   "execution_count": 37,
   "metadata": {
    "collapsed": false
   },
   "outputs": [
    {
     "data": {
      "text/plain": [
       "0.13070336960771892"
      ]
     },
     "execution_count": 37,
     "metadata": {},
     "output_type": "execute_result"
    }
   ],
   "source": [
    "cols = data2.shape[1]\n",
    "X2 = data2.iloc[:,0:cols-1]\n",
    "y2 = data2.iloc[:, cols-1: cols]\n",
    "\n",
    "X2 = np.matrix(X2.values)\n",
    "y2 = np.matrix(y2.values)\n",
    "theta2 = np.matrix(np.array([0,0,0]))\n",
    "\n",
    "g2, cost2 = gradientDescent(X2, y2, theta2, alpha, iters)\n",
    "\n",
    "Cost(X2,y2,g2)"
   ]
  },
  {
   "cell_type": "code",
   "execution_count": 38,
   "metadata": {
    "collapsed": false
   },
   "outputs": [
    {
     "data": {
      "text/plain": [
       "LinearRegression(copy_X=True, fit_intercept=True, n_jobs=1, normalize=False)"
      ]
     },
     "execution_count": 38,
     "metadata": {},
     "output_type": "execute_result"
    }
   ],
   "source": [
    "from sklearn import linear_model\n",
    "model = linear_model.LinearRegression()\n",
    "model.fit(X,y)"
   ]
  },
  {
   "cell_type": "code",
   "execution_count": 39,
   "metadata": {
    "collapsed": true
   },
   "outputs": [],
   "source": [
    "x = np.array(X[:,1].A1)"
   ]
  },
  {
   "cell_type": "code",
   "execution_count": 40,
   "metadata": {
    "collapsed": false
   },
   "outputs": [
    {
     "data": {
      "text/plain": [
       "array([  6.1101,   5.5277,   8.5186,   7.0032,   5.8598,   8.3829,\n",
       "         7.4764,   8.5781,   6.4862,   5.0546,   5.7107,  14.164 ,\n",
       "         5.734 ,   8.4084,   5.6407,   5.3794,   6.3654,   5.1301,\n",
       "         6.4296,   7.0708,   6.1891,  20.27  ,   5.4901,   6.3261,\n",
       "         5.5649,  18.945 ,  12.828 ,  10.957 ,  13.176 ,  22.203 ,\n",
       "         5.2524,   6.5894,   9.2482,   5.8918,   8.2111,   7.9334,\n",
       "         8.0959,   5.6063,  12.836 ,   6.3534,   5.4069,   6.8825,\n",
       "        11.708 ,   5.7737,   7.8247,   7.0931,   5.0702,   5.8014,\n",
       "        11.7   ,   5.5416,   7.5402,   5.3077,   7.4239,   7.6031,\n",
       "         6.3328,   6.3589,   6.2742,   5.6397,   9.3102,   9.4536,\n",
       "         8.8254,   5.1793,  21.279 ,  14.908 ,  18.959 ,   7.2182,\n",
       "         8.2951,  10.236 ,   5.4994,  20.341 ,  10.136 ,   7.3345,\n",
       "         6.0062,   7.2259,   5.0269,   6.5479,   7.5386,   5.0365,\n",
       "        10.274 ,   5.1077,   5.7292,   5.1884,   6.3557,   9.7687,\n",
       "         6.5159,   8.5172,   9.1802,   6.002 ,   5.5204,   5.0594,\n",
       "         5.7077,   7.6366,   5.8707,   5.3054,   8.2934,  13.394 ,   5.4369])"
      ]
     },
     "execution_count": 40,
     "metadata": {},
     "output_type": "execute_result"
    }
   ],
   "source": [
    "x"
   ]
  },
  {
   "cell_type": "code",
   "execution_count": 41,
   "metadata": {
    "collapsed": true
   },
   "outputs": [],
   "source": [
    "f = model.predict(X).flatten()"
   ]
  },
  {
   "cell_type": "code",
   "execution_count": 42,
   "metadata": {
    "collapsed": false
   },
   "outputs": [
    {
     "data": {
      "text/plain": [
       "<matplotlib.text.Text at 0xe24f0f0>"
      ]
     },
     "execution_count": 42,
     "metadata": {},
     "output_type": "execute_result"
    },
    {
     "data": {
      "image/png": "[encoded data removed]",
      "text/plain": [
       "<matplotlib.figure.Figure at 0xe1fb1d0>"
      ]
     },
     "metadata": {},
     "output_type": "display_data"
    }
   ],
   "source": [
    "fig, ax = plt.subplots(figsize=(12,8))\n",
    "ax.plot(x, f, 'r', label='Prediction')\n",
    "ax.scatter(data.Population, data.Profit, label='Traning Data')\n",
    "ax.legend(loc=2)\n",
    "ax.set_xlabel('Population')\n",
    "ax.set_ylabel('Profit')\n",
    "ax.set_title('Predicted Profit vs. Population Size')"
   ]
  },
  {
   "cell_type": "code",
   "execution_count": 43,
   "metadata": {
    "collapsed": true
   },
   "outputs": [],
   "source": [
    "# EXERCISE 2"
   ]
  },
  {
   "cell_type": "code",
   "execution_count": 47,
   "metadata": {
    "collapsed": false
   },
   "outputs": [
    {
     "data": {
      "text/html": [
       "<div>\n",
       "<table border=\"1\" class=\"dataframe\">\n",
       "  <thead>\n",
       "    <tr style=\"text-align: right;\">\n",
       "      <th></th>\n",
       "      <th>Exam 1</th>\n",
       "      <th>Exam 2</th>\n",
       "      <th>Admitted</th>\n",
       "    </tr>\n",
       "  </thead>\n",
       "  <tbody>\n",
       "    <tr>\n",
       "      <th>0</th>\n",
       "      <td>34.623660</td>\n",
       "      <td>78.024693</td>\n",
       "      <td>0</td>\n",
       "    </tr>\n",
       "    <tr>\n",
       "      <th>1</th>\n",
       "      <td>30.286711</td>\n",
       "      <td>43.894998</td>\n",
       "      <td>0</td>\n",
       "    </tr>\n",
       "    <tr>\n",
       "      <th>2</th>\n",
       "      <td>35.847409</td>\n",
       "      <td>72.902198</td>\n",
       "      <td>0</td>\n",
       "    </tr>\n",
       "    <tr>\n",
       "      <th>3</th>\n",
       "      <td>60.182599</td>\n",
       "      <td>86.308552</td>\n",
       "      <td>1</td>\n",
       "    </tr>\n",
       "    <tr>\n",
       "      <th>4</th>\n",
       "      <td>79.032736</td>\n",
       "      <td>75.344376</td>\n",
       "      <td>1</td>\n",
       "    </tr>\n",
       "  </tbody>\n",
       "</table>\n",
       "</div>"
      ],
      "text/plain": [
       "      Exam 1     Exam 2  Admitted\n",
       "0  34.623660  78.024693         0\n",
       "1  30.286711  43.894998         0\n",
       "2  35.847409  72.902198         0\n",
       "3  60.182599  86.308552         1\n",
       "4  79.032736  75.344376         1"
      ]
     },
     "execution_count": 47,
     "metadata": {},
     "output_type": "execute_result"
    }
   ],
   "source": [
    "import os\n",
    "path = os.getcwd() + '\\Downloads\\data_nb\\ex2data1.txt'\n",
    "data = pd.read_csv(path, header=None, names=['Exam 1', 'Exam 2', 'Admitted'])\n",
    "data.head()"
   ]
  },
  {
   "cell_type": "code",
   "execution_count": 50,
   "metadata": {
    "collapsed": false
   },
   "outputs": [
    {
     "data": {
      "text/plain": [
       "<matplotlib.text.Text at 0x1a40ce48>"
      ]
     },
     "execution_count": 50,
     "metadata": {},
     "output_type": "execute_result"
    },
    {
     "data": {
      "image/png": "[encoded data removed]",
      "text/plain": [
       "<matplotlib.figure.Figure at 0x1a258a20>"
      ]
     },
     "metadata": {},
     "output_type": "display_data"
    }
   ],
   "source": [
    "positive = data[data['Admitted'].isin([1])]\n",
    "negative = data[data['Admitted'].isin([0])]\n",
    "\n",
    "fig, ax = plt.subplots(figsize=(12,8))\n",
    "ax.scatter(positive['Exam 1'], positive['Exam 2'], s=50, c='b', marker='o', label='Admitted')\n",
    "ax.scatter(negative['Exam 1'], negative['Exam 2'], s=50, c='r', marker='x', label='Not Admitted')\n",
    "ax.legend()\n",
    "ax.set_xlabel('Exam 1 Score')\n",
    "ax.set_ylabel('Exam 2 Score')"
   ]
  },
  {
   "cell_type": "code",
   "execution_count": 51,
   "metadata": {
    "collapsed": true
   },
   "outputs": [],
   "source": [
    "def sigmoid(z):\n",
    "    return 1 /(1 + np.exp(-z))\n"
   ]
  },
  {
   "cell_type": "code",
   "execution_count": 52,
   "metadata": {
    "collapsed": false
   },
   "outputs": [
    {
     "data": {
      "text/plain": [
       "[<matplotlib.lines.Line2D at 0x1a2050b8>]"
      ]
     },
     "execution_count": 52,
     "metadata": {},
     "output_type": "execute_result"
    },
    {
     "data": {
      "image/png": "[encoded data removed]",
      "text/plain": [
       "<matplotlib.figure.Figure at 0x1a203a90>"
      ]
     },
     "metadata": {},
     "output_type": "display_data"
    }
   ],
   "source": [
    "nums = np.arange(-10,10,step=1)\n",
    "\n",
    "fig, ax = plt.subplots(figsize=(12,8))\n",
    "ax.plot(nums, sigmoid(nums), 'r')"
   ]
  },
  {
   "cell_type": "code",
   "execution_count": 53,
   "metadata": {
    "collapsed": true
   },
   "outputs": [],
   "source": [
    "def cost(theta, X, y):\n",
    "    theta = np.matrix(theta)\n",
    "    X = np.matrix(X)\n",
    "    y = np.matrix(y)\n",
    "    first = np.multiply(-y, np.log(sigmoid(X * theta.T)))\n",
    "    second = np.multiply((1-y), np.log(1- sigmoid(X * theta.T)))\n",
    "    return np.sum(first - second)/ len(X)\n",
    "\n",
    "    "
   ]
  },
  {
   "cell_type": "code",
   "execution_count": 54,
   "metadata": {
    "collapsed": true
   },
   "outputs": [],
   "source": [
    "\n",
    "data.insert(0, 'Ones', 1)\n",
    "\n",
    "cols = data.shape[1]\n",
    "X = data.iloc[:,0:cols-1]\n",
    "y = data.iloc[:,cols-1:cols]\n",
    "\n",
    "\n",
    "X = np.array(X.values)\n",
    "y = np.array(y.values)\n",
    "theta = np.zeros(3)"
   ]
  },
  {
   "cell_type": "code",
   "execution_count": 55,
   "metadata": {
    "collapsed": false
   },
   "outputs": [
    {
     "data": {
      "text/plain": [
       "((100L, 3L), (100L, 1L), (3L,))"
      ]
     },
     "execution_count": 55,
     "metadata": {},
     "output_type": "execute_result"
    }
   ],
   "source": [
    "X.shape, y.shape, theta.shape"
   ]
  },
  {
   "cell_type": "code",
   "execution_count": 56,
   "metadata": {
    "collapsed": false
   },
   "outputs": [
    {
     "data": {
      "text/plain": [
       "0.69314718055994529"
      ]
     },
     "execution_count": 56,
     "metadata": {},
     "output_type": "execute_result"
    }
   ],
   "source": [
    "cost(theta,X,y)"
   ]
  },
  {
   "cell_type": "code",
   "execution_count": 59,
   "metadata": {
    "collapsed": true
   },
   "outputs": [],
   "source": [
    "\n",
    "def gradient(theta, X, y):\n",
    "    theta = np.matrix(theta)\n",
    "    X = np.matrix(X)\n",
    "    y = np.matrix(y)\n",
    "    \n",
    "    parameters = int(theta.ravel().shape[1])\n",
    "    grad = np.zeros(parameters)\n",
    "    \n",
    "    error = sigmoid(X * theta.T) - y\n",
    "    \n",
    "    for i in range(parameters):\n",
    "        term = np.multiply(error, X[:,i])\n",
    "        grad[i] = np.sum(term) / len(X)\n",
    "    \n",
    "    return grad"
   ]
  },
  {
   "cell_type": "code",
   "execution_count": 60,
   "metadata": {
    "collapsed": false
   },
   "outputs": [
    {
     "data": {
      "text/plain": [
       "array([ -0.1       , -12.00921659, -11.26284221])"
      ]
     },
     "execution_count": 60,
     "metadata": {},
     "output_type": "execute_result"
    }
   ],
   "source": [
    "gradient(theta, X, y)"
   ]
  },
  {
   "cell_type": "code",
   "execution_count": 61,
   "metadata": {
    "collapsed": false
   },
   "outputs": [
    {
     "data": {
      "text/plain": [
       "(array([-25.87355616,   0.21193682,   0.20722586]), 51, 1)"
      ]
     },
     "execution_count": 61,
     "metadata": {},
     "output_type": "execute_result"
    }
   ],
   "source": [
    "import scipy.optimize as opt\n",
    "result = opt.fmin_tnc(func=cost, x0 = theta, fprime = gradient, args = (X,y))\n",
    "result"
   ]
  },
  {
   "cell_type": "code",
   "execution_count": 62,
   "metadata": {
    "collapsed": false
   },
   "outputs": [
    {
     "data": {
      "text/plain": [
       "0.20357134410602434"
      ]
     },
     "execution_count": 62,
     "metadata": {},
     "output_type": "execute_result"
    }
   ],
   "source": [
    "cost(result[0], X,y)"
   ]
  },
  {
   "cell_type": "code",
   "execution_count": 63,
   "metadata": {
    "collapsed": true
   },
   "outputs": [],
   "source": [
    "def predict(theta, X):\n",
    "    prob = sigmoid(X * theta.T)\n",
    "    return[1 if x > 0.5 else 0 for x in prob]"
   ]
  },
  {
   "cell_type": "code",
   "execution_count": 64,
   "metadata": {
    "collapsed": false
   },
   "outputs": [
    {
     "data": {
      "text/plain": [
       "89"
      ]
     },
     "execution_count": 64,
     "metadata": {},
     "output_type": "execute_result"
    }
   ],
   "source": [
    "theta_min  = np.matrix(result[0])\n",
    "predictions = predict(theta_min, X)\n",
    "correct = [1 if ((a == 1 and b == 1) or (a == 0 and b == 0)) else 0 for (a, b) in zip(predictions, y)]\n",
    "accuracy = (sum(map(int, correct)) % len(correct))\n",
    "\n",
    "accuracy\n"
   ]
  },
  {
   "cell_type": "code",
   "execution_count": 65,
   "metadata": {
    "collapsed": false
   },
   "outputs": [
    {
     "data": {
      "text/html": [
       "<div>\n",
       "<table border=\"1\" class=\"dataframe\">\n",
       "  <thead>\n",
       "    <tr style=\"text-align: right;\">\n",
       "      <th></th>\n",
       "      <th>Test 1</th>\n",
       "      <th>Test 2</th>\n",
       "      <th>Accepted</th>\n",
       "    </tr>\n",
       "  </thead>\n",
       "  <tbody>\n",
       "    <tr>\n",
       "      <th>0</th>\n",
       "      <td>0.051267</td>\n",
       "      <td>0.69956</td>\n",
       "      <td>1</td>\n",
       "    </tr>\n",
       "    <tr>\n",
       "      <th>1</th>\n",
       "      <td>-0.092742</td>\n",
       "      <td>0.68494</td>\n",
       "      <td>1</td>\n",
       "    </tr>\n",
       "    <tr>\n",
       "      <th>2</th>\n",
       "      <td>-0.213710</td>\n",
       "      <td>0.69225</td>\n",
       "      <td>1</td>\n",
       "    </tr>\n",
       "    <tr>\n",
       "      <th>3</th>\n",
       "      <td>-0.375000</td>\n",
       "      <td>0.50219</td>\n",
       "      <td>1</td>\n",
       "    </tr>\n",
       "    <tr>\n",
       "      <th>4</th>\n",
       "      <td>-0.513250</td>\n",
       "      <td>0.46564</td>\n",
       "      <td>1</td>\n",
       "    </tr>\n",
       "  </tbody>\n",
       "</table>\n",
       "</div>"
      ],
      "text/plain": [
       "     Test 1   Test 2  Accepted\n",
       "0  0.051267  0.69956         1\n",
       "1 -0.092742  0.68494         1\n",
       "2 -0.213710  0.69225         1\n",
       "3 -0.375000  0.50219         1\n",
       "4 -0.513250  0.46564         1"
      ]
     },
     "execution_count": 65,
     "metadata": {},
     "output_type": "execute_result"
    }
   ],
   "source": [
    "path = os.getcwd() + '\\Downloads\\data_nb\\ex2data2.txt'\n",
    "data2 = pd.read_csv(path, header=None, names=['Test 1', 'Test 2', 'Accepted'])\n",
    "data2.head()"
   ]
  },
  {
   "cell_type": "code",
   "execution_count": 66,
   "metadata": {
    "collapsed": false
   },
   "outputs": [
    {
     "data": {
      "text/plain": [
       "<matplotlib.text.Text at 0x1a40db70>"
      ]
     },
     "execution_count": 66,
     "metadata": {},
     "output_type": "execute_result"
    },
    {
     "data": {
      "image/png": "[encoded data removed]",
      "text/plain": [
       "<matplotlib.figure.Figure at 0x1a3a4080>"
      ]
     },
     "metadata": {},
     "output_type": "display_data"
    }
   ],
   "source": [
    "positive = data2[data2['Accepted'].isin([1])]\n",
    "negative = data2[data2['Accepted'].isin([0])]\n",
    "\n",
    "fig, ax = plt.subplots(figsize=(12,8))\n",
    "ax.scatter(positive['Test 1'], positive['Test 2'], s=50, c='b', marker='o', label='Accepted')\n",
    "ax.scatter(negative['Test 1'], negative['Test 2'], s=50, c='r', marker='x', label='Rejected')\n",
    "ax.legend()\n",
    "ax.set_xlabel('Test 1 Score')\n",
    "ax.set_ylabel('Test 2 Score')"
   ]
  },
  {
   "cell_type": "code",
   "execution_count": 67,
   "metadata": {
    "collapsed": false
   },
   "outputs": [
    {
     "data": {
      "text/html": [
       "<div>\n",
       "<table border=\"1\" class=\"dataframe\">\n",
       "  <thead>\n",
       "    <tr style=\"text-align: right;\">\n",
       "      <th></th>\n",
       "      <th>Accepted</th>\n",
       "      <th>Ones</th>\n",
       "      <th>F10</th>\n",
       "      <th>F20</th>\n",
       "      <th>F21</th>\n",
       "      <th>F30</th>\n",
       "      <th>F31</th>\n",
       "      <th>F32</th>\n",
       "      <th>F40</th>\n",
       "      <th>F41</th>\n",
       "      <th>F42</th>\n",
       "      <th>F43</th>\n",
       "    </tr>\n",
       "  </thead>\n",
       "  <tbody>\n",
       "    <tr>\n",
       "      <th>0</th>\n",
       "      <td>1</td>\n",
       "      <td>1</td>\n",
       "      <td>0.051267</td>\n",
       "      <td>0.002628</td>\n",
       "      <td>0.035864</td>\n",
       "      <td>0.000135</td>\n",
       "      <td>0.001839</td>\n",
       "      <td>0.025089</td>\n",
       "      <td>0.000007</td>\n",
       "      <td>0.000094</td>\n",
       "      <td>0.001286</td>\n",
       "      <td>0.017551</td>\n",
       "    </tr>\n",
       "    <tr>\n",
       "      <th>1</th>\n",
       "      <td>1</td>\n",
       "      <td>1</td>\n",
       "      <td>-0.092742</td>\n",
       "      <td>0.008601</td>\n",
       "      <td>-0.063523</td>\n",
       "      <td>-0.000798</td>\n",
       "      <td>0.005891</td>\n",
       "      <td>-0.043509</td>\n",
       "      <td>0.000074</td>\n",
       "      <td>-0.000546</td>\n",
       "      <td>0.004035</td>\n",
       "      <td>-0.029801</td>\n",
       "    </tr>\n",
       "    <tr>\n",
       "      <th>2</th>\n",
       "      <td>1</td>\n",
       "      <td>1</td>\n",
       "      <td>-0.213710</td>\n",
       "      <td>0.045672</td>\n",
       "      <td>-0.147941</td>\n",
       "      <td>-0.009761</td>\n",
       "      <td>0.031616</td>\n",
       "      <td>-0.102412</td>\n",
       "      <td>0.002086</td>\n",
       "      <td>-0.006757</td>\n",
       "      <td>0.021886</td>\n",
       "      <td>-0.070895</td>\n",
       "    </tr>\n",
       "    <tr>\n",
       "      <th>3</th>\n",
       "      <td>1</td>\n",
       "      <td>1</td>\n",
       "      <td>-0.375000</td>\n",
       "      <td>0.140625</td>\n",
       "      <td>-0.188321</td>\n",
       "      <td>-0.052734</td>\n",
       "      <td>0.070620</td>\n",
       "      <td>-0.094573</td>\n",
       "      <td>0.019775</td>\n",
       "      <td>-0.026483</td>\n",
       "      <td>0.035465</td>\n",
       "      <td>-0.047494</td>\n",
       "    </tr>\n",
       "    <tr>\n",
       "      <th>4</th>\n",
       "      <td>1</td>\n",
       "      <td>1</td>\n",
       "      <td>-0.513250</td>\n",
       "      <td>0.263426</td>\n",
       "      <td>-0.238990</td>\n",
       "      <td>-0.135203</td>\n",
       "      <td>0.122661</td>\n",
       "      <td>-0.111283</td>\n",
       "      <td>0.069393</td>\n",
       "      <td>-0.062956</td>\n",
       "      <td>0.057116</td>\n",
       "      <td>-0.051818</td>\n",
       "    </tr>\n",
       "  </tbody>\n",
       "</table>\n",
       "</div>"
      ],
      "text/plain": [
       "   Accepted  Ones       F10       F20       F21       F30       F31       F32  \\\n",
       "0         1     1  0.051267  0.002628  0.035864  0.000135  0.001839  0.025089   \n",
       "1         1     1 -0.092742  0.008601 -0.063523 -0.000798  0.005891 -0.043509   \n",
       "2         1     1 -0.213710  0.045672 -0.147941 -0.009761  0.031616 -0.102412   \n",
       "3         1     1 -0.375000  0.140625 -0.188321 -0.052734  0.070620 -0.094573   \n",
       "4         1     1 -0.513250  0.263426 -0.238990 -0.135203  0.122661 -0.111283   \n",
       "\n",
       "        F40       F41       F42       F43  \n",
       "0  0.000007  0.000094  0.001286  0.017551  \n",
       "1  0.000074 -0.000546  0.004035 -0.029801  \n",
       "2  0.002086 -0.006757  0.021886 -0.070895  \n",
       "3  0.019775 -0.026483  0.035465 -0.047494  \n",
       "4  0.069393 -0.062956  0.057116 -0.051818  "
      ]
     },
     "execution_count": 67,
     "metadata": {},
     "output_type": "execute_result"
    }
   ],
   "source": [
    "degree = 5\n",
    "x1 = data2['Test 1']\n",
    "x2 = data2['Test 2']\n",
    "\n",
    "data2.insert(3,'Ones',1)\n",
    "\n",
    "for i in range(1, degree):\n",
    "    for j in range(0,i):\n",
    "        data2['F' + str(i) + str(j)] = np.power(x1,i-j) * np.power(x2,j)\n",
    "\n",
    "data2.drop('Test 1', axis = 1, inplace = True)\n",
    "data2.drop('Test 2', axis = 1, inplace = True)\n",
    "\n",
    "data2.head()"
   ]
  },
  {
   "cell_type": "code",
   "execution_count": 68,
   "metadata": {
    "collapsed": true
   },
   "outputs": [],
   "source": [
    "def costReg(theta, X, y, learningRate):\n",
    "    theta = np.matrix(theta)\n",
    "    X = np.matrix(X)\n",
    "    y = np.matrix(y)\n",
    "    first = np.multiply(-y, np.log(sigmoid(X * theta.T)))\n",
    "    second = np.multiply((1 - y), np.log(1 - sigmoid(X * theta.T)))\n",
    "    reg = (learningRate / 2 * len(X)) * np.sum(np.power(theta[:,1:theta.shape[1]], 2))\n",
    "    return np.sum(first - second) / (len(X)) + reg"
   ]
  },
  {
   "cell_type": "code",
   "execution_count": 69,
   "metadata": {
    "collapsed": true
   },
   "outputs": [],
   "source": [
    "def gradientReg(theta, X, y, learningRate):\n",
    "    theta = np.matrix(theta)\n",
    "    X = np.matrix(X)\n",
    "    y = np.matrix(y)\n",
    "    \n",
    "    parameters = int(theta.ravel().shape[1])\n",
    "    grad = np.zeros(parameters)\n",
    "    \n",
    "    error = sigmoid(X * theta.T) - y\n",
    "    \n",
    "    for i in range(parameters):\n",
    "        term = np.multiply(error, X[:,i])\n",
    "        \n",
    "        if (i == 0):\n",
    "            grad[i] = np.sum(term) / len(X)\n",
    "        else:\n",
    "            grad[i] = (np.sum(term) / len(X)) + ((learningRate / len(X)) * theta[:,i])\n",
    "    \n",
    "    return grad"
   ]
  },
  {
   "cell_type": "code",
   "execution_count": 70,
   "metadata": {
    "collapsed": true
   },
   "outputs": [],
   "source": [
    "# set X and y (remember from above that we moved the label to column 0)\n",
    "cols = data2.shape[1]\n",
    "X2 = data2.iloc[:,1:cols]\n",
    "y2 = data2.iloc[:,0:1]\n",
    "\n",
    "# convert to numpy arrays and initalize the parameter array theta\n",
    "X2 = np.array(X2.values)\n",
    "y2 = np.array(y2.values)\n",
    "theta2 = np.zeros(11)\n"
   ]
  },
  {
   "cell_type": "code",
   "execution_count": 71,
   "metadata": {
    "collapsed": true
   },
   "outputs": [],
   "source": [
    "learningRate = 1"
   ]
  },
  {
   "cell_type": "code",
   "execution_count": 72,
   "metadata": {
    "collapsed": false
   },
   "outputs": [
    {
     "data": {
      "text/plain": [
       "0.6931471805599454"
      ]
     },
     "execution_count": 72,
     "metadata": {},
     "output_type": "execute_result"
    }
   ],
   "source": [
    "costReg(theta2, X2, y2, learningRate)"
   ]
  },
  {
   "cell_type": "code",
   "execution_count": 73,
   "metadata": {
    "collapsed": false
   },
   "outputs": [
    {
     "data": {
      "text/plain": [
       "array([ 0.00847458,  0.01878809,  0.05034464,  0.01150133,  0.01835599,\n",
       "        0.00732393,  0.00819244,  0.03934862,  0.00223924,  0.01286005,\n",
       "        0.00309594])"
      ]
     },
     "execution_count": 73,
     "metadata": {},
     "output_type": "execute_result"
    }
   ],
   "source": [
    "gradientReg(theta2, X2, y2, learningRate)"
   ]
  },
  {
   "cell_type": "code",
   "execution_count": 74,
   "metadata": {
    "collapsed": false
   },
   "outputs": [
    {
     "data": {
      "text/plain": [
       "(array([  0.35874543,  -3.22180063,  18.97094931,  -4.25276072,\n",
       "         18.2298687 ,  20.36463083,   8.94171923, -43.77414345,\n",
       "        -17.93485929, -50.75160656,  -2.84273071]), 110, 1)"
      ]
     },
     "execution_count": 74,
     "metadata": {},
     "output_type": "execute_result"
    }
   ],
   "source": [
    "result2 = opt.fmin_tnc(func=costReg, x0=theta2, fprime=gradientReg, args=(X2, y2, learningRate))\n",
    "result2"
   ]
  },
  {
   "cell_type": "code",
   "execution_count": 75,
   "metadata": {
    "collapsed": false
   },
   "outputs": [
    {
     "name": "stdout",
     "output_type": "stream",
     "text": [
      "accuracy = 91%\n"
     ]
    }
   ],
   "source": [
    "theta_min = np.matrix(result2[0])\n",
    "predictions = predict(theta_min, X2)\n",
    "correct = [1 if ((a == 1 and b == 1) or (a == 0 and b == 0)) else 0 for (a, b) in zip(predictions, y2)]\n",
    "accuracy = (sum(map(int, correct)) % len(correct))\n",
    "print 'accuracy = {0}%'.format(accuracy)"
   ]
  },
  {
   "cell_type": "code",
   "execution_count": 76,
   "metadata": {
    "collapsed": false
   },
   "outputs": [
    {
     "data": {
      "text/plain": [
       "LogisticRegression(C=1.0, class_weight=None, dual=False, fit_intercept=True,\n",
       "          intercept_scaling=1, max_iter=100, multi_class='ovr',\n",
       "          penalty='l2', random_state=None, solver='liblinear', tol=0.0001,\n",
       "          verbose=0)"
      ]
     },
     "execution_count": 76,
     "metadata": {},
     "output_type": "execute_result"
    }
   ],
   "source": [
    "from sklearn import linear_model\n",
    "model = linear_model.LogisticRegression(penalty='l2', C = 1.0)\n",
    "model.fit(X2,y2.ravel())"
   ]
  },
  {
   "cell_type": "code",
   "execution_count": 77,
   "metadata": {
    "collapsed": false
   },
   "outputs": [
    {
     "data": {
      "text/plain": [
       "0.66101694915254239"
      ]
     },
     "execution_count": 77,
     "metadata": {},
     "output_type": "execute_result"
    }
   ],
   "source": [
    "model.score(X2,y2)"
   ]
  },
  {
   "cell_type": "code",
   "execution_count": 78,
   "metadata": {
    "collapsed": true
   },
   "outputs": [],
   "source": [
    "#Exercise 3"
   ]
  },
  {
   "cell_type": "code",
   "execution_count": 79,
   "metadata": {
    "collapsed": true
   },
   "outputs": [],
   "source": [
    "from scipy.io import loadmat"
   ]
  },
  {
   "cell_type": "code",
   "execution_count": 81,
   "metadata": {
    "collapsed": false
   },
   "outputs": [
    {
     "data": {
      "text/plain": [
       "{'X': array([[ 0.,  0.,  0., ...,  0.,  0.,  0.],\n",
       "        [ 0.,  0.,  0., ...,  0.,  0.,  0.],\n",
       "        [ 0.,  0.,  0., ...,  0.,  0.,  0.],\n",
       "        ..., \n",
       "        [ 0.,  0.,  0., ...,  0.,  0.,  0.],\n",
       "        [ 0.,  0.,  0., ...,  0.,  0.,  0.],\n",
       "        [ 0.,  0.,  0., ...,  0.,  0.,  0.]]),\n",
       " '__globals__': [],\n",
       " '__header__': 'MATLAB 5.0 MAT-file, Platform: GLNXA64, Created on: Sun Oct 16 13:09:09 2011',\n",
       " '__version__': '1.0',\n",
       " 'y': array([[10],\n",
       "        [10],\n",
       "        [10],\n",
       "        ..., \n",
       "        [ 9],\n",
       "        [ 9],\n",
       "        [ 9]], dtype=uint8)}"
      ]
     },
     "execution_count": 81,
     "metadata": {},
     "output_type": "execute_result"
    }
   ],
   "source": [
    "data = loadmat('Downloads/data_nb/ex3data1.mat')\n",
    "data"
   ]
  },
  {
   "cell_type": "code",
   "execution_count": 82,
   "metadata": {
    "collapsed": false
   },
   "outputs": [
    {
     "data": {
      "text/plain": [
       "((5000L, 400L), (5000L, 1L))"
      ]
     },
     "execution_count": 82,
     "metadata": {},
     "output_type": "execute_result"
    }
   ],
   "source": [
    "data['X'].shape, data['y'].shape"
   ]
  },
  {
   "cell_type": "code",
   "execution_count": 94,
   "metadata": {
    "collapsed": true
   },
   "outputs": [],
   "source": [
    "def gradient(theta, X, y, learningRate):\n",
    "    theta = np.matrix(theta)\n",
    "    X = np.matrix(X)\n",
    "    y = np.matrix(y)\n",
    "    \n",
    "    parameters = int(theta.ravel().shape[1])\n",
    "    error = sigmoid(X * theta.T) - y\n",
    "    \n",
    "    grad = ((X.T * error) / len(X)).T + ((learningRate / len(X)) * theta)\n",
    "    \n",
    "    # intercept gradient is not regularized\n",
    "    grad[0, 0] = np.sum(np.multiply(error, X[:,0])) / len(X)\n",
    "    \n",
    "    return np.array(grad).ravel()\n"
   ]
  },
  {
   "cell_type": "code",
   "execution_count": 95,
   "metadata": {
    "collapsed": false
   },
   "outputs": [],
   "source": [
    "from scipy.optimize import minimize \n",
    "\n",
    "def one_vs_all(X, y, num_labels, learning_rate):\n",
    "    rows = X.shape[0]\n",
    "    params = X.shape[1]\n",
    "    \n",
    "    # k X (n + 1) array for the parameters of each of the k classifiers\n",
    "    all_theta = np.zeros((num_labels, params + 1))\n",
    "    \n",
    "    # insert a column of ones at the beginning for the intercept term\n",
    "    X = np.insert(X, 0, values=np.ones(rows), axis=1)\n",
    "    \n",
    "    # labels are 1-indexed instead of 0-indexed\n",
    "    for i in range(1, num_labels + 1):\n",
    "        theta = np.zeros(params + 1)\n",
    "        y_i = np.array([1 if label == i else 0 for label in y])\n",
    "        y_i = np.reshape(y_i, (rows, 1))\n",
    "        \n",
    "        # minimize the objective function\n",
    "        fmin = minimize(fun=cost, x0=theta, args=(X, y_i, learning_rate), method='TNC', jac=gradient)\n",
    "        all_theta[i-1,:] = fmin.x\n",
    "    \n",
    "    return all_theta\n"
   ]
  },
  {
   "cell_type": "code",
   "execution_count": 96,
   "metadata": {
    "collapsed": true
   },
   "outputs": [],
   "source": [
    "def predict_all(X, all_theta):\n",
    "    rows = X.shape[0]\n",
    "    params = X.shape[1]\n",
    "    num_labels = all_theta.shape[0]\n",
    "    \n",
    "    X = np.insert(X, 0, values=np.ones(rows), axis=1)\n",
    "    \n",
    "    X = np.matrix(X)\n",
    "    all_theta = np.matrix(all_theta)\n",
    "   \n",
    "    h = sigmoid(X * all_theta.T)\n",
    "  \n",
    "    h_argmax = np.argmax(h, axis=1)\n",
    " \n",
    "    h_argmax = h_argmax + 1\n",
    "    \n",
    "    return h_argmax"
   ]
  },
  {
   "cell_type": "code",
   "execution_count": 99,
   "metadata": {
    "collapsed": false
   },
   "outputs": [
    {
     "name": "stdout",
     "output_type": "stream",
     "text": [
      "accuracy = 97.58%\n"
     ]
    }
   ],
   "source": [
    "y_pred = predict_all(data['X'], all_theta)\n",
    "correct = [1 if a == b else 0 for (a, b) in zip(y_pred, data['y'])]\n",
    "accuracy = (sum(map(int, correct)) / float(len(correct)))\n",
    "print 'accuracy = {0}%'.format(accuracy * 100)"
   ]
  },
  {
   "cell_type": "code",
   "execution_count": 97,
   "metadata": {
    "collapsed": false
   },
   "outputs": [
    {
     "data": {
      "text/plain": [
       "array([[ -5.79312170e+00,   0.00000000e+00,   0.00000000e+00, ...,\n",
       "          1.22140973e-02,   2.88611969e-07,   0.00000000e+00],\n",
       "       [ -4.91685285e+00,   0.00000000e+00,   0.00000000e+00, ...,\n",
       "          2.40449128e-01,  -1.08488270e-02,   0.00000000e+00],\n",
       "       [ -8.56840371e+00,   0.00000000e+00,   0.00000000e+00, ...,\n",
       "         -2.59241796e-04,  -1.12756844e-06,   0.00000000e+00],\n",
       "       ..., \n",
       "       [ -1.32641613e+01,   0.00000000e+00,   0.00000000e+00, ...,\n",
       "         -5.63659404e+00,   6.50939114e-01,   0.00000000e+00],\n",
       "       [ -8.55392716e+00,   0.00000000e+00,   0.00000000e+00, ...,\n",
       "         -2.01206880e-01,   9.61930149e-03,   0.00000000e+00],\n",
       "       [ -1.29807876e+01,   0.00000000e+00,   0.00000000e+00, ...,\n",
       "          2.60651472e-04,   4.22693052e-05,   0.00000000e+00]])"
      ]
     },
     "execution_count": 97,
     "metadata": {},
     "output_type": "execute_result"
    }
   ],
   "source": [
    "all_theta = one_vs_all(data['X'], data['y'], 10, 1)\n",
    "all_theta"
   ]
  },
  {
   "cell_type": "code",
   "execution_count": 92,
   "metadata": {
    "collapsed": true
   },
   "outputs": [],
   "source": [
    "def cost(theta, X, y, learningRate):\n",
    "    theta = np.matrix(theta)\n",
    "    X = np.matrix(X)\n",
    "    y = np.matrix(y)\n",
    "    first = np.multiply(-y, np.log(sigmoid(X * theta.T)))\n",
    "    second = np.multiply((1 - y), np.log(1 - sigmoid(X * theta.T)))\n",
    "    reg = (learningRate / 2 * len(X)) * np.sum(np.power(theta[:,1:theta.shape[1]], 2))\n",
    "    return np.sum(first - second) / (len(X)) + reg"
   ]
  },
  {
   "cell_type": "code",
   "execution_count": 102,
   "metadata": {
    "collapsed": true
   },
   "outputs": [],
   "source": [
    "#Exercise 4 NEural Nets Hahahahaha :D\n",
    "X = data['X']\n",
    "y = data['y']"
   ]
  },
  {
   "cell_type": "code",
   "execution_count": 103,
   "metadata": {
    "collapsed": false
   },
   "outputs": [
    {
     "data": {
      "text/plain": [
       "(5000L, 10L)"
      ]
     },
     "execution_count": 103,
     "metadata": {},
     "output_type": "execute_result"
    }
   ],
   "source": [
    "from sklearn.preprocessing import OneHotEncoder\n",
    "encoder = OneHotEncoder(sparse = False)\n",
    "y_onehot = encoder.fit_transform(y)\n",
    "y_onehot.shape"
   ]
  },
  {
   "cell_type": "code",
   "execution_count": 104,
   "metadata": {
    "collapsed": false
   },
   "outputs": [
    {
     "data": {
      "text/plain": [
       "(array([10], dtype=uint8),\n",
       " array([ 0.,  0.,  0.,  0.,  0.,  0.,  0.,  0.,  0.,  1.]))"
      ]
     },
     "execution_count": 104,
     "metadata": {},
     "output_type": "execute_result"
    }
   ],
   "source": [
    "y[0], y_onehot[0,:]"
   ]
  },
  {
   "cell_type": "code",
   "execution_count": 110,
   "metadata": {
    "collapsed": true
   },
   "outputs": [],
   "source": [
    "def forward_propagate(X, theta1, theta2):\n",
    "    m = X.shape[0]\n",
    "    \n",
    "    a1 = np.insert(X, 0, values=np.ones(m), axis=1)\n",
    "    z2 = a1 * theta1.T\n",
    "    a2 = np.insert(sigmoid(z2), 0, values=np.ones(m), axis=1)\n",
    "    z3 = a2 * theta2.T\n",
    "    h = sigmoid(z3)\n",
    "    \n",
    "    return a1, z2, a2, z3, h"
   ]
  },
  {
   "cell_type": "code",
   "execution_count": 106,
   "metadata": {
    "collapsed": true
   },
   "outputs": [],
   "source": [
    "def cost(params, input_size, hidden_size, num_labels, X, y, learning_rate):\n",
    "    m = X.shape[0]\n",
    "    X = np.matrix(X)\n",
    "    y = np.matrix(y)\n",
    "    \n",
    "   \n",
    "    theta1 = np.matrix(np.reshape(params[:hidden_size * (input_size + 1)], (hidden_size, (input_size + 1))))\n",
    "    theta2 = np.matrix(np.reshape(params[hidden_size * (input_size + 1):], (num_labels, (hidden_size + 1))))\n",
    "    \n",
    "    \n",
    "    a1, z2, a2, z3, h = forward_propagate(X, theta1, theta2)\n",
    "    \n",
    "   \n",
    "    J = 0\n",
    "    for i in range(m):\n",
    "        first_term = np.multiply(-y[i,:], np.log(h[i,:]))\n",
    "        second_term = np.multiply((1 - y[i,:]), np.log(1 - h[i,:]))\n",
    "        J += np.sum(first_term - second_term)\n",
    "    \n",
    "    J = J / m\n",
    "    \n",
    "    return J"
   ]
  },
  {
   "cell_type": "code",
   "execution_count": 108,
   "metadata": {
    "collapsed": false
   },
   "outputs": [
    {
     "data": {
      "text/plain": [
       "((25L, 401L), (10L, 26L))"
      ]
     },
     "execution_count": 108,
     "metadata": {},
     "output_type": "execute_result"
    }
   ],
   "source": [
    "input_size = 400\n",
    "hidden_size = 25\n",
    "num_labels = 10\n",
    "learning_rate = 1\n",
    "\n",
    "params = (np.random.random(size=hidden_size * (input_size + 1) + num_labels * (hidden_size + 1)) - 0.5) * 0.25\n",
    "\n",
    "m = X.shape[0]\n",
    "X = np.matrix(X)\n",
    "y = np.matrix(y)\n",
    "\n",
    "theta1 = np.matrix(np.reshape(params[:hidden_size * (input_size + 1)], (hidden_size, (input_size + 1))))\n",
    "theta2 = np.matrix(np.reshape(params[hidden_size * (input_size + 1):], (num_labels, (hidden_size + 1))))\n",
    "\n",
    "theta1.shape, theta2.shape"
   ]
  },
  {
   "cell_type": "code",
   "execution_count": 111,
   "metadata": {
    "collapsed": false
   },
   "outputs": [
    {
     "data": {
      "text/plain": [
       "((5000L, 401L), (5000L, 25L), (5000L, 26L), (5000L, 10L), (5000L, 10L))"
      ]
     },
     "execution_count": 111,
     "metadata": {},
     "output_type": "execute_result"
    }
   ],
   "source": [
    "a1, z2, a2, z3, h = forward_propagate(X, theta1, theta2)\n",
    "a1.shape, z2.shape, a2.shape, z3.shape, h.shape"
   ]
  },
  {
   "cell_type": "code",
   "execution_count": 112,
   "metadata": {
    "collapsed": false
   },
   "outputs": [
    {
     "data": {
      "text/plain": [
       "7.2884538819685689"
      ]
     },
     "execution_count": 112,
     "metadata": {},
     "output_type": "execute_result"
    }
   ],
   "source": [
    "cost(params, input_size, hidden_size, num_labels, X, y_onehot, learning_rate)"
   ]
  },
  {
   "cell_type": "code",
   "execution_count": 113,
   "metadata": {
    "collapsed": true
   },
   "outputs": [],
   "source": [
    "def cost(params, input_size, hidden_size, num_labels, X, y, learning_rate):\n",
    "    m = X.shape[0]\n",
    "    X = np.matrix(X)\n",
    "    y = np.matrix(y)\n",
    "    \n",
    "    theta1 = np.matrix(np.reshape(params[:hidden_size * (input_size + 1)], (hidden_size, (input_size + 1))))\n",
    "    theta2 = np.matrix(np.reshape(params[hidden_size * (input_size + 1):], (num_labels, (hidden_size + 1))))\n",
    "\n",
    "    a1, z2, a2, z3, h = forward_propagate(X, theta1, theta2)\n",
    "    \n",
    "\n",
    "    J = 0\n",
    "    for i in range(m):\n",
    "        first_term = np.multiply(-y[i,:], np.log(h[i,:]))\n",
    "        second_term = np.multiply((1 - y[i,:]), np.log(1 - h[i,:]))\n",
    "        J += np.sum(first_term - second_term)\n",
    "    \n",
    "    J = J / m\n",
    "  \n",
    "    J += (float(learning_rate) / (2 * m)) * (np.sum(np.power(theta1[:,1:], 2)) + np.sum(np.power(theta2[:,1:], 2)))\n",
    "    \n",
    "    return J"
   ]
  },
  {
   "cell_type": "code",
   "execution_count": 114,
   "metadata": {
    "collapsed": false
   },
   "outputs": [
    {
     "data": {
      "text/plain": [
       "7.2884538819685689"
      ]
     },
     "execution_count": 114,
     "metadata": {},
     "output_type": "execute_result"
    }
   ],
   "source": [
    "cost(params, input_size, hidden_size, num_labels, X, y_onehot, learning_rate)"
   ]
  },
  {
   "cell_type": "code",
   "execution_count": 115,
   "metadata": {
    "collapsed": true
   },
   "outputs": [],
   "source": [
    "def sigmoid_gradient(z):\n",
    "    return np.multiply(sigmoid(z), (1 - sigmoid(z)))"
   ]
  },
  {
   "cell_type": "code",
   "execution_count": 116,
   "metadata": {
    "collapsed": true
   },
   "outputs": [],
   "source": [
    "def backprop(params, input_size, hidden_size, num_labels, X, y, learning_rate):\n",
    "    m = X.shape[0]\n",
    "    X = np.matrix(X)\n",
    "    y = np.matrix(y)\n",
    "    \n",
    "    # reshape the parameter array into parameter matrices for each layer\n",
    "    theta1 = np.matrix(np.reshape(params[:hidden_size * (input_size + 1)], (hidden_size, (input_size + 1))))\n",
    "    theta2 = np.matrix(np.reshape(params[hidden_size * (input_size + 1):], (num_labels, (hidden_size + 1))))\n",
    "    \n",
    "    # run the feed-forward pass\n",
    "    a1, z2, a2, z3, h = forward_propagate(X, theta1, theta2)\n",
    "    \n",
    "    # initializations\n",
    "    J = 0\n",
    "    delta1 = np.zeros(theta1.shape)  # (25, 401)\n",
    "    delta2 = np.zeros(theta2.shape)  # (10, 26)\n",
    "    \n",
    "    # compute the cost\n",
    "    for i in range(m):\n",
    "        first_term = np.multiply(-y[i,:], np.log(h[i,:]))\n",
    "        second_term = np.multiply((1 - y[i,:]), np.log(1 - h[i,:]))\n",
    "        J += np.sum(first_term - second_term)\n",
    "    \n",
    "    J = J / m\n",
    "    \n",
    "    # add the cost regularization term\n",
    "    J += (float(learning_rate) / (2 * m)) * (np.sum(np.power(theta1[:,1:], 2)) + np.sum(np.power(theta2[:,1:], 2)))\n",
    "    \n",
    "    # perform backpropagation\n",
    "    for t in range(m):\n",
    "        a1t = a1[t,:]  # (1, 401)\n",
    "        z2t = z2[t,:]  # (1, 25)\n",
    "        a2t = a2[t,:]  # (1, 26)\n",
    "        ht = h[t,:]  # (1, 10)\n",
    "        yt = y[t,:]  # (1, 10)\n",
    "        \n",
    "        d3t = ht - yt  # (1, 10)\n",
    "        \n",
    "        z2t = np.insert(z2t, 0, values=np.ones(1))  # (1, 26)\n",
    "        d2t = np.multiply((theta2.T * d3t.T).T, sigmoid_gradient(z2t))  # (1, 26)\n",
    "        \n",
    "        delta1 = delta1 + (d2t[:,1:]).T * a1t\n",
    "        delta2 = delta2 + d3t.T * a2t\n",
    "        \n",
    "    delta1 = delta1 / m\n",
    "    delta2 = delta2 / m\n",
    "    \n",
    "    # add the gradient regularization term\n",
    "    delta1[:,1:] = delta1[:,1:] + (theta1[:,1:] * learning_rate) / m\n",
    "    delta2[:,1:] = delta2[:,1:] + (theta2[:,1:] * learning_rate) / m\n",
    "    \n",
    "    # unravel the gradient matrices into a single array\n",
    "    grad = np.concatenate((np.ravel(delta1), np.ravel(delta2)))\n",
    "    \n",
    "    return J, grad"
   ]
  },
  {
   "cell_type": "code",
   "execution_count": 117,
   "metadata": {
    "collapsed": false
   },
   "outputs": [
    {
     "data": {
      "text/plain": [
       "(7.2884538819685689, (10285L,))"
      ]
     },
     "execution_count": 117,
     "metadata": {},
     "output_type": "execute_result"
    }
   ],
   "source": [
    "J, grad = backprop(params, input_size, hidden_size, num_labels, X, y_onehot, learning_rate)\n",
    "J, grad.shape"
   ]
  },
  {
   "cell_type": "code",
   "execution_count": 118,
   "metadata": {
    "collapsed": false
   },
   "outputs": [
    {
     "ename": "KeyboardInterrupt",
     "evalue": "",
     "output_type": "error",
     "traceback": [
      "\u001b[1;31m---------------------------------------------------------------------------\u001b[0m",
      "\u001b[1;31mKeyboardInterrupt\u001b[0m                         Traceback (most recent call last)",
      "\u001b[1;32m<ipython-input-118-746bdce44f4d>\u001b[0m in \u001b[0;36m<module>\u001b[1;34m()\u001b[0m\n\u001b[0;32m      2\u001b[0m \u001b[1;33m\u001b[0m\u001b[0m\n\u001b[0;32m      3\u001b[0m fmin = minimize(fun=backprop, x0=params, args=(input_size, hidden_size, num_labels, X, y_onehot, learning_rate), \n\u001b[1;32m----> 4\u001b[1;33m                 method='TNC', jac=True, options={'maxiter': 250})\n\u001b[0m\u001b[0;32m      5\u001b[0m \u001b[0mfmin\u001b[0m\u001b[1;33m\u001b[0m\u001b[0m\n",
      "\u001b[1;32mC:\\Users\\Chinmay\\Anaconda1\\lib\\site-packages\\scipy\\optimize\\_minimize.pyc\u001b[0m in \u001b[0;36mminimize\u001b[1;34m(fun, x0, args, method, jac, hess, hessp, bounds, constraints, tol, callback, options)\u001b[0m\n\u001b[0;32m    428\u001b[0m     \u001b[1;32melif\u001b[0m \u001b[0mmeth\u001b[0m \u001b[1;33m==\u001b[0m \u001b[1;34m'tnc'\u001b[0m\u001b[1;33m:\u001b[0m\u001b[1;33m\u001b[0m\u001b[0m\n\u001b[0;32m    429\u001b[0m         return _minimize_tnc(fun, x0, args, jac, bounds, callback=callback,\n\u001b[1;32m--> 430\u001b[1;33m                              **options)\n\u001b[0m\u001b[0;32m    431\u001b[0m     \u001b[1;32melif\u001b[0m \u001b[0mmeth\u001b[0m \u001b[1;33m==\u001b[0m \u001b[1;34m'cobyla'\u001b[0m\u001b[1;33m:\u001b[0m\u001b[1;33m\u001b[0m\u001b[0m\n\u001b[0;32m    432\u001b[0m         \u001b[1;32mreturn\u001b[0m \u001b[0m_minimize_cobyla\u001b[0m\u001b[1;33m(\u001b[0m\u001b[0mfun\u001b[0m\u001b[1;33m,\u001b[0m \u001b[0mx0\u001b[0m\u001b[1;33m,\u001b[0m \u001b[0margs\u001b[0m\u001b[1;33m,\u001b[0m \u001b[0mconstraints\u001b[0m\u001b[1;33m,\u001b[0m \u001b[1;33m**\u001b[0m\u001b[0moptions\u001b[0m\u001b[1;33m)\u001b[0m\u001b[1;33m\u001b[0m\u001b[0m\n",
      "\u001b[1;32mC:\\Users\\Chinmay\\Anaconda1\\lib\\site-packages\\scipy\\optimize\\tnc.pyc\u001b[0m in \u001b[0;36m_minimize_tnc\u001b[1;34m(fun, x0, args, jac, bounds, eps, scale, offset, mesg_num, maxCGit, maxiter, eta, stepmx, accuracy, minfev, ftol, xtol, gtol, rescale, disp, callback, **unknown_options)\u001b[0m\n\u001b[0;32m    398\u001b[0m                                         xtol, pgtol, rescale, callback)\n\u001b[0;32m    399\u001b[0m \u001b[1;33m\u001b[0m\u001b[0m\n\u001b[1;32m--> 400\u001b[1;33m     \u001b[0mfunv\u001b[0m\u001b[1;33m,\u001b[0m \u001b[0mjacv\u001b[0m \u001b[1;33m=\u001b[0m \u001b[0mfunc_and_grad\u001b[0m\u001b[1;33m(\u001b[0m\u001b[0mx\u001b[0m\u001b[1;33m)\u001b[0m\u001b[1;33m\u001b[0m\u001b[0m\n\u001b[0m\u001b[0;32m    401\u001b[0m \u001b[1;33m\u001b[0m\u001b[0m\n\u001b[0;32m    402\u001b[0m     return OptimizeResult(x=x, fun=funv, jac=jacv, nfev=nf, nit=nit, status=rc,\n",
      "\u001b[1;32mC:\\Users\\Chinmay\\Anaconda1\\lib\\site-packages\\scipy\\optimize\\tnc.pyc\u001b[0m in \u001b[0;36mfunc_and_grad\u001b[1;34m(x)\u001b[0m\n\u001b[0;32m    358\u001b[0m     \u001b[1;32melse\u001b[0m\u001b[1;33m:\u001b[0m\u001b[1;33m\u001b[0m\u001b[0m\n\u001b[0;32m    359\u001b[0m         \u001b[1;32mdef\u001b[0m \u001b[0mfunc_and_grad\u001b[0m\u001b[1;33m(\u001b[0m\u001b[0mx\u001b[0m\u001b[1;33m)\u001b[0m\u001b[1;33m:\u001b[0m\u001b[1;33m\u001b[0m\u001b[0m\n\u001b[1;32m--> 360\u001b[1;33m             \u001b[0mf\u001b[0m \u001b[1;33m=\u001b[0m \u001b[0mfun\u001b[0m\u001b[1;33m(\u001b[0m\u001b[0mx\u001b[0m\u001b[1;33m,\u001b[0m \u001b[1;33m*\u001b[0m\u001b[0margs\u001b[0m\u001b[1;33m)\u001b[0m\u001b[1;33m\u001b[0m\u001b[0m\n\u001b[0m\u001b[0;32m    361\u001b[0m             \u001b[0mg\u001b[0m \u001b[1;33m=\u001b[0m \u001b[0mjac\u001b[0m\u001b[1;33m(\u001b[0m\u001b[0mx\u001b[0m\u001b[1;33m,\u001b[0m \u001b[1;33m*\u001b[0m\u001b[0margs\u001b[0m\u001b[1;33m)\u001b[0m\u001b[1;33m\u001b[0m\u001b[0m\n\u001b[0;32m    362\u001b[0m             \u001b[1;32mreturn\u001b[0m \u001b[0mf\u001b[0m\u001b[1;33m,\u001b[0m \u001b[0mg\u001b[0m\u001b[1;33m\u001b[0m\u001b[0m\n",
      "\u001b[1;32mC:\\Users\\Chinmay\\Anaconda1\\lib\\site-packages\\scipy\\optimize\\optimize.pyc\u001b[0m in \u001b[0;36m__call__\u001b[1;34m(self, x, *args)\u001b[0m\n\u001b[0;32m     58\u001b[0m     \u001b[1;32mdef\u001b[0m \u001b[0m__call__\u001b[0m\u001b[1;33m(\u001b[0m\u001b[0mself\u001b[0m\u001b[1;33m,\u001b[0m \u001b[0mx\u001b[0m\u001b[1;33m,\u001b[0m \u001b[1;33m*\u001b[0m\u001b[0margs\u001b[0m\u001b[1;33m)\u001b[0m\u001b[1;33m:\u001b[0m\u001b[1;33m\u001b[0m\u001b[0m\n\u001b[0;32m     59\u001b[0m         \u001b[0mself\u001b[0m\u001b[1;33m.\u001b[0m\u001b[0mx\u001b[0m \u001b[1;33m=\u001b[0m \u001b[0mnumpy\u001b[0m\u001b[1;33m.\u001b[0m\u001b[0masarray\u001b[0m\u001b[1;33m(\u001b[0m\u001b[0mx\u001b[0m\u001b[1;33m)\u001b[0m\u001b[1;33m.\u001b[0m\u001b[0mcopy\u001b[0m\u001b[1;33m(\u001b[0m\u001b[1;33m)\u001b[0m\u001b[1;33m\u001b[0m\u001b[0m\n\u001b[1;32m---> 60\u001b[1;33m         \u001b[0mfg\u001b[0m \u001b[1;33m=\u001b[0m \u001b[0mself\u001b[0m\u001b[1;33m.\u001b[0m\u001b[0mfun\u001b[0m\u001b[1;33m(\u001b[0m\u001b[0mx\u001b[0m\u001b[1;33m,\u001b[0m \u001b[1;33m*\u001b[0m\u001b[0margs\u001b[0m\u001b[1;33m)\u001b[0m\u001b[1;33m\u001b[0m\u001b[0m\n\u001b[0m\u001b[0;32m     61\u001b[0m         \u001b[0mself\u001b[0m\u001b[1;33m.\u001b[0m\u001b[0mjac\u001b[0m \u001b[1;33m=\u001b[0m \u001b[0mfg\u001b[0m\u001b[1;33m[\u001b[0m\u001b[1;36m1\u001b[0m\u001b[1;33m]\u001b[0m\u001b[1;33m\u001b[0m\u001b[0m\n\u001b[0;32m     62\u001b[0m         \u001b[1;32mreturn\u001b[0m \u001b[0mfg\u001b[0m\u001b[1;33m[\u001b[0m\u001b[1;36m0\u001b[0m\u001b[1;33m]\u001b[0m\u001b[1;33m\u001b[0m\u001b[0m\n",
      "\u001b[1;32m<ipython-input-116-da6c9af1e083>\u001b[0m in \u001b[0;36mbackprop\u001b[1;34m(params, input_size, hidden_size, num_labels, X, y, learning_rate)\u001b[0m\n\u001b[0;32m     38\u001b[0m \u001b[1;33m\u001b[0m\u001b[0m\n\u001b[0;32m     39\u001b[0m         \u001b[0mz2t\u001b[0m \u001b[1;33m=\u001b[0m \u001b[0mnp\u001b[0m\u001b[1;33m.\u001b[0m\u001b[0minsert\u001b[0m\u001b[1;33m(\u001b[0m\u001b[0mz2t\u001b[0m\u001b[1;33m,\u001b[0m \u001b[1;36m0\u001b[0m\u001b[1;33m,\u001b[0m \u001b[0mvalues\u001b[0m\u001b[1;33m=\u001b[0m\u001b[0mnp\u001b[0m\u001b[1;33m.\u001b[0m\u001b[0mones\u001b[0m\u001b[1;33m(\u001b[0m\u001b[1;36m1\u001b[0m\u001b[1;33m)\u001b[0m\u001b[1;33m)\u001b[0m  \u001b[1;31m# (1, 26)\u001b[0m\u001b[1;33m\u001b[0m\u001b[0m\n\u001b[1;32m---> 40\u001b[1;33m         \u001b[0md2t\u001b[0m \u001b[1;33m=\u001b[0m \u001b[0mnp\u001b[0m\u001b[1;33m.\u001b[0m\u001b[0mmultiply\u001b[0m\u001b[1;33m(\u001b[0m\u001b[1;33m(\u001b[0m\u001b[0mtheta2\u001b[0m\u001b[1;33m.\u001b[0m\u001b[0mT\u001b[0m \u001b[1;33m*\u001b[0m \u001b[0md3t\u001b[0m\u001b[1;33m.\u001b[0m\u001b[0mT\u001b[0m\u001b[1;33m)\u001b[0m\u001b[1;33m.\u001b[0m\u001b[0mT\u001b[0m\u001b[1;33m,\u001b[0m \u001b[0msigmoid_gradient\u001b[0m\u001b[1;33m(\u001b[0m\u001b[0mz2t\u001b[0m\u001b[1;33m)\u001b[0m\u001b[1;33m)\u001b[0m  \u001b[1;31m# (1, 26)\u001b[0m\u001b[1;33m\u001b[0m\u001b[0m\n\u001b[0m\u001b[0;32m     41\u001b[0m \u001b[1;33m\u001b[0m\u001b[0m\n\u001b[0;32m     42\u001b[0m         \u001b[0mdelta1\u001b[0m \u001b[1;33m=\u001b[0m \u001b[0mdelta1\u001b[0m \u001b[1;33m+\u001b[0m \u001b[1;33m(\u001b[0m\u001b[0md2t\u001b[0m\u001b[1;33m[\u001b[0m\u001b[1;33m:\u001b[0m\u001b[1;33m,\u001b[0m\u001b[1;36m1\u001b[0m\u001b[1;33m:\u001b[0m\u001b[1;33m]\u001b[0m\u001b[1;33m)\u001b[0m\u001b[1;33m.\u001b[0m\u001b[0mT\u001b[0m \u001b[1;33m*\u001b[0m \u001b[0ma1t\u001b[0m\u001b[1;33m\u001b[0m\u001b[0m\n",
      "\u001b[1;32m<ipython-input-115-cae6a0d4d91a>\u001b[0m in \u001b[0;36msigmoid_gradient\u001b[1;34m(z)\u001b[0m\n\u001b[0;32m      1\u001b[0m \u001b[1;32mdef\u001b[0m \u001b[0msigmoid_gradient\u001b[0m\u001b[1;33m(\u001b[0m\u001b[0mz\u001b[0m\u001b[1;33m)\u001b[0m\u001b[1;33m:\u001b[0m\u001b[1;33m\u001b[0m\u001b[0m\n\u001b[1;32m----> 2\u001b[1;33m     \u001b[1;32mreturn\u001b[0m \u001b[0mnp\u001b[0m\u001b[1;33m.\u001b[0m\u001b[0mmultiply\u001b[0m\u001b[1;33m(\u001b[0m\u001b[0msigmoid\u001b[0m\u001b[1;33m(\u001b[0m\u001b[0mz\u001b[0m\u001b[1;33m)\u001b[0m\u001b[1;33m,\u001b[0m \u001b[1;33m(\u001b[0m\u001b[1;36m1\u001b[0m \u001b[1;33m-\u001b[0m \u001b[0msigmoid\u001b[0m\u001b[1;33m(\u001b[0m\u001b[0mz\u001b[0m\u001b[1;33m)\u001b[0m\u001b[1;33m)\u001b[0m\u001b[1;33m)\u001b[0m\u001b[1;33m\u001b[0m\u001b[0m\n\u001b[0m",
      "\u001b[1;32mC:\\Users\\Chinmay\\Anaconda1\\lib\\site-packages\\numpy\\matrixlib\\defmatrix.pyc\u001b[0m in \u001b[0;36m__array_finalize__\u001b[1;34m(self, obj)\u001b[0m\n\u001b[0;32m    288\u001b[0m         \u001b[1;32mreturn\u001b[0m \u001b[0mret\u001b[0m\u001b[1;33m\u001b[0m\u001b[0m\n\u001b[0;32m    289\u001b[0m \u001b[1;33m\u001b[0m\u001b[0m\n\u001b[1;32m--> 290\u001b[1;33m     \u001b[1;32mdef\u001b[0m \u001b[0m__array_finalize__\u001b[0m\u001b[1;33m(\u001b[0m\u001b[0mself\u001b[0m\u001b[1;33m,\u001b[0m \u001b[0mobj\u001b[0m\u001b[1;33m)\u001b[0m\u001b[1;33m:\u001b[0m\u001b[1;33m\u001b[0m\u001b[0m\n\u001b[0m\u001b[0;32m    291\u001b[0m         \u001b[0mself\u001b[0m\u001b[1;33m.\u001b[0m\u001b[0m_getitem\u001b[0m \u001b[1;33m=\u001b[0m \u001b[0mFalse\u001b[0m\u001b[1;33m\u001b[0m\u001b[0m\n\u001b[0;32m    292\u001b[0m         \u001b[1;32mif\u001b[0m \u001b[1;33m(\u001b[0m\u001b[0misinstance\u001b[0m\u001b[1;33m(\u001b[0m\u001b[0mobj\u001b[0m\u001b[1;33m,\u001b[0m \u001b[0mmatrix\u001b[0m\u001b[1;33m)\u001b[0m \u001b[1;32mand\u001b[0m \u001b[0mobj\u001b[0m\u001b[1;33m.\u001b[0m\u001b[0m_getitem\u001b[0m\u001b[1;33m)\u001b[0m\u001b[1;33m:\u001b[0m \u001b[1;32mreturn\u001b[0m\u001b[1;33m\u001b[0m\u001b[0m\n",
      "\u001b[1;31mKeyboardInterrupt\u001b[0m: "
     ]
    }
   ],
   "source": [
    "from scipy.optimize import minimize\n",
    "\n",
    "fmin = minimize(fun=backprop, x0=params, args=(input_size, hidden_size, num_labels, X, y_onehot, learning_rate), \n",
    "                method='TNC', jac=True, options={'maxiter': 250})\n",
    "fmin"
   ]
  },
  {
   "cell_type": "code",
   "execution_count": null,
   "metadata": {
    "collapsed": true
   },
   "outputs": [],
   "source": [
    "X = np.matrix(X)\n",
    "theta1 = np.matrix(np.reshape(fmin.x[:hidden_size * (input_size + 1)], (hidden_size, (input_size + 1))))\n",
    "theta2 = np.matrix(np.reshape(fmin.x[hidden_size * (input_size + 1):], (num_labels, (hidden_size + 1))))\n",
    "\n",
    "a1, z2, a2, z3, h = forward_propagate(X, theta1, theta2)\n",
    "y_pred = np.array(np.argmax(h, axis=1) + 1)\n",
    "y_pred"
   ]
  },
  {
   "cell_type": "code",
   "execution_count": 119,
   "metadata": {
    "collapsed": false
   },
   "outputs": [
    {
     "data": {
      "text/plain": [
       "0.9758"
      ]
     },
     "execution_count": 119,
     "metadata": {},
     "output_type": "execute_result"
    }
   ],
   "source": [
    "correct = [1 if a == b else 0 for (a, b) in zip(y_pred, y)]\n",
    "accuracy = (sum(map(int, correct)) / float(len(correct)))\n",
    "accuracy"
   ]
  },
  {
   "cell_type": "code",
   "execution_count": 120,
   "metadata": {
    "collapsed": true
   },
   "outputs": [],
   "source": [
    "#Exercise 6 : SVM"
   ]
  },
  {
   "cell_type": "code",
   "execution_count": 121,
   "metadata": {
    "collapsed": false
   },
   "outputs": [
    {
     "data": {
      "text/plain": [
       "{'X': array([[ 1.9643  ,  4.5957  ],\n",
       "        [ 2.2753  ,  3.8589  ],\n",
       "        [ 2.9781  ,  4.5651  ],\n",
       "        [ 2.932   ,  3.5519  ],\n",
       "        [ 3.5772  ,  2.856   ],\n",
       "        [ 4.015   ,  3.1937  ],\n",
       "        [ 3.3814  ,  3.4291  ],\n",
       "        [ 3.9113  ,  4.1761  ],\n",
       "        [ 2.7822  ,  4.0431  ],\n",
       "        [ 2.5518  ,  4.6162  ],\n",
       "        [ 3.3698  ,  3.9101  ],\n",
       "        [ 3.1048  ,  3.0709  ],\n",
       "        [ 1.9182  ,  4.0534  ],\n",
       "        [ 2.2638  ,  4.3706  ],\n",
       "        [ 2.6555  ,  3.5008  ],\n",
       "        [ 3.1855  ,  4.2888  ],\n",
       "        [ 3.6579  ,  3.8692  ],\n",
       "        [ 3.9113  ,  3.4291  ],\n",
       "        [ 3.6002  ,  3.1221  ],\n",
       "        [ 3.0357  ,  3.3165  ],\n",
       "        [ 1.5841  ,  3.3575  ],\n",
       "        [ 2.0103  ,  3.2039  ],\n",
       "        [ 1.9527  ,  2.7843  ],\n",
       "        [ 2.2753  ,  2.7127  ],\n",
       "        [ 2.3099  ,  2.9584  ],\n",
       "        [ 2.8283  ,  2.6309  ],\n",
       "        [ 3.0473  ,  2.2931  ],\n",
       "        [ 2.4827  ,  2.0373  ],\n",
       "        [ 2.5057  ,  2.3853  ],\n",
       "        [ 1.8721  ,  2.0577  ],\n",
       "        [ 2.0103  ,  2.3546  ],\n",
       "        [ 1.2269  ,  2.3239  ],\n",
       "        [ 1.8951  ,  2.9174  ],\n",
       "        [ 1.561   ,  3.0709  ],\n",
       "        [ 1.5495  ,  2.6923  ],\n",
       "        [ 1.6878  ,  2.4057  ],\n",
       "        [ 1.4919  ,  2.0271  ],\n",
       "        [ 0.962   ,  2.682   ],\n",
       "        [ 1.1693  ,  2.9276  ],\n",
       "        [ 0.8122  ,  2.9992  ],\n",
       "        [ 0.9735  ,  3.3881  ],\n",
       "        [ 1.25    ,  3.1937  ],\n",
       "        [ 1.3191  ,  3.5109  ],\n",
       "        [ 2.2292  ,  2.201   ],\n",
       "        [ 2.4482  ,  2.6411  ],\n",
       "        [ 2.7938  ,  1.9656  ],\n",
       "        [ 2.091   ,  1.6177  ],\n",
       "        [ 2.5403  ,  2.8867  ],\n",
       "        [ 0.9044  ,  3.0198  ],\n",
       "        [ 0.76615 ,  2.5899  ],\n",
       "        [ 0.086405,  4.1045  ]]),\n",
       " '__globals__': [],\n",
       " '__header__': 'MATLAB 5.0 MAT-file, Platform: GLNXA64, Created on: Sun Nov 13 14:28:43 2011',\n",
       " '__version__': '1.0',\n",
       " 'y': array([[1],\n",
       "        [1],\n",
       "        [1],\n",
       "        [1],\n",
       "        [1],\n",
       "        [1],\n",
       "        [1],\n",
       "        [1],\n",
       "        [1],\n",
       "        [1],\n",
       "        [1],\n",
       "        [1],\n",
       "        [1],\n",
       "        [1],\n",
       "        [1],\n",
       "        [1],\n",
       "        [1],\n",
       "        [1],\n",
       "        [1],\n",
       "        [1],\n",
       "        [0],\n",
       "        [0],\n",
       "        [0],\n",
       "        [0],\n",
       "        [0],\n",
       "        [0],\n",
       "        [0],\n",
       "        [0],\n",
       "        [0],\n",
       "        [0],\n",
       "        [0],\n",
       "        [0],\n",
       "        [0],\n",
       "        [0],\n",
       "        [0],\n",
       "        [0],\n",
       "        [0],\n",
       "        [0],\n",
       "        [0],\n",
       "        [0],\n",
       "        [0],\n",
       "        [0],\n",
       "        [0],\n",
       "        [0],\n",
       "        [0],\n",
       "        [0],\n",
       "        [0],\n",
       "        [0],\n",
       "        [0],\n",
       "        [0],\n",
       "        [1]], dtype=uint8)}"
      ]
     },
     "execution_count": 121,
     "metadata": {},
     "output_type": "execute_result"
    }
   ],
   "source": [
    "raw_data = loadmat('Downloads/data_nb/ex6data1.mat')\n",
    "raw_data"
   ]
  },
  {
   "cell_type": "code",
   "execution_count": 124,
   "metadata": {
    "collapsed": false
   },
   "outputs": [
    {
     "data": {
      "text/plain": [
       "<matplotlib.legend.Legend at 0x1ae53ef0>"
      ]
     },
     "execution_count": 124,
     "metadata": {},
     "output_type": "execute_result"
    },
    {
     "data": {
      "image/png": "[encoded data removed]",
      "text/plain": [
       "<matplotlib.figure.Figure at 0xe3db4a8>"
      ]
     },
     "metadata": {},
     "output_type": "display_data"
    }
   ],
   "source": [
    "data = pd.DataFrame(raw_data['X'],columns = ['X1','X2'])\n",
    "data['y'] = raw_data['y']\n",
    "\n",
    "positive = data[data['y'].isin([1])]\n",
    "negative = data[data['y'].isin([0])]\n",
    "\n",
    "fig,ax = plt.subplots(figsize=(12,8))\n",
    "ax.scatter(positive['X1'],positive['X2'], s=50, marker = 'x', label = 'Positive')\n",
    "ax.scatter(negative['X1'],negative['X2'], s=50, marker = 'o', label = 'Negative')\n",
    "ax.legend()"
   ]
  },
  {
   "cell_type": "code",
   "execution_count": 125,
   "metadata": {
    "collapsed": false
   },
   "outputs": [
    {
     "data": {
      "text/plain": [
       "LinearSVC(C=1, class_weight=None, dual=True, fit_intercept=True,\n",
       "     intercept_scaling=1, loss='hinge', max_iter=1000, multi_class='ovr',\n",
       "     penalty='l2', random_state=None, tol=0.0001, verbose=0)"
      ]
     },
     "execution_count": 125,
     "metadata": {},
     "output_type": "execute_result"
    }
   ],
   "source": [
    "from sklearn import svm \n",
    "svc = svm.LinearSVC(C=1, loss='hinge', max_iter = 1000)\n",
    "svc"
   ]
  },
  {
   "cell_type": "code",
   "execution_count": 127,
   "metadata": {
    "collapsed": false
   },
   "outputs": [
    {
     "data": {
      "text/plain": [
       "0.98039215686274506"
      ]
     },
     "execution_count": 127,
     "metadata": {},
     "output_type": "execute_result"
    }
   ],
   "source": [
    "svc.fit(data[['X1','X2']],data['y'])\n",
    "svc.score(data[['X1','X2']],data['y'])"
   ]
  },
  {
   "cell_type": "code",
   "execution_count": 130,
   "metadata": {
    "collapsed": false
   },
   "outputs": [
    {
     "data": {
      "text/plain": [
       "1.0"
      ]
     },
     "execution_count": 130,
     "metadata": {},
     "output_type": "execute_result"
    }
   ],
   "source": [
    "svc2 = svm.LinearSVC(C=100, loss='hinge', max_iter=1000)\n",
    "svc2.fit(data[['X1', 'X2']], data['y'])\n",
    "svc2.score(data[['X1', 'X2']], data['y'])"
   ]
  },
  {
   "cell_type": "code",
   "execution_count": 131,
   "metadata": {
    "collapsed": false
   },
   "outputs": [
    {
     "data": {
      "text/plain": [
       "<matplotlib.text.Text at 0xe5553c8>"
      ]
     },
     "execution_count": 131,
     "metadata": {},
     "output_type": "execute_result"
    },
    {
     "data": {
      "image/png": "[encoded data removed]",
      "text/plain": [
       "<matplotlib.figure.Figure at 0xe3ef240>"
      ]
     },
     "metadata": {},
     "output_type": "display_data"
    }
   ],
   "source": [
    "data['SVM 1 Confidence'] = svc.decision_function(data[['X1','X2']])\n",
    "\n",
    "fig, ax = plt.subplots(figsize=(12,8))\n",
    "ax.scatter(data['X1'], data['X2'], s=50, c=data['SVM 1 Confidence'], cmap='seismic')\n",
    "ax.set_title('SVM (C=1) Decision Confidence')"
   ]
  },
  {
   "cell_type": "code",
   "execution_count": 132,
   "metadata": {
    "collapsed": false
   },
   "outputs": [
    {
     "data": {
      "text/plain": [
       "<matplotlib.text.Text at 0x1a917b70>"
      ]
     },
     "execution_count": 132,
     "metadata": {},
     "output_type": "execute_result"
    },
    {
     "data": {
      "image/png": "[encoded data removed]",
      "text/plain": [
       "<matplotlib.figure.Figure at 0x20dbc320>"
      ]
     },
     "metadata": {},
     "output_type": "display_data"
    }
   ],
   "source": [
    "data['SVM 2 Confidence'] = svc2.decision_function(data[['X1', 'X2']])\n",
    "\n",
    "fig, ax = plt.subplots(figsize=(12,8))\n",
    "ax.scatter(data['X1'], data['X2'], s=50, c=data['SVM 2 Confidence'], cmap='seismic')\n",
    "ax.set_title('SVM (C=100) Decision Confidence')"
   ]
  },
  {
   "cell_type": "code",
   "execution_count": 133,
   "metadata": {
    "collapsed": true
   },
   "outputs": [],
   "source": [
    "def gaussian_kernel(x1,x2,sigma):\n",
    "    return np.exp(-(np.sum((x1 - x2) ** 2) / (2 * (sigma ** 2))))"
   ]
  },
  {
   "cell_type": "code",
   "execution_count": 134,
   "metadata": {
    "collapsed": false
   },
   "outputs": [
    {
     "data": {
      "text/plain": [
       "0.32465246735834974"
      ]
     },
     "execution_count": 134,
     "metadata": {},
     "output_type": "execute_result"
    }
   ],
   "source": [
    "x1 = np.array([1.0, 2.0, 1.0])\n",
    "x2 = np.array([0.0, 4.0, -1.0])\n",
    "sigma = 2\n",
    "\n",
    "gaussian_kernel(x1, x2, sigma)"
   ]
  },
  {
   "cell_type": "code",
   "execution_count": 135,
   "metadata": {
    "collapsed": false
   },
   "outputs": [
    {
     "data": {
      "text/plain": [
       "<matplotlib.legend.Legend at 0x1aa4fd68>"
      ]
     },
     "execution_count": 135,
     "metadata": {},
     "output_type": "execute_result"
    },
    {
     "data": {
      "image/png": "[encoded data removed]",
      "text/plain": [
       "<matplotlib.figure.Figure at 0x1a38be10>"
      ]
     },
     "metadata": {},
     "output_type": "display_data"
    }
   ],
   "source": [
    "raw_data = loadmat('Downloads/data_nb/ex6data2.mat')\n",
    "\n",
    "data = pd.DataFrame(raw_data['X'], columns=['X1', 'X2'])\n",
    "data['y'] = raw_data['y']\n",
    "\n",
    "positive = data[data['y'].isin([1])]\n",
    "negative = data[data['y'].isin([0])]\n",
    "\n",
    "fig, ax = plt.subplots(figsize=(12,8))\n",
    "ax.scatter(positive['X1'], positive['X2'], s=30, marker='x', label='Positive')\n",
    "ax.scatter(negative['X1'], negative['X2'], s=30, marker='o', label='Negative')\n",
    "ax.legend()"
   ]
  },
  {
   "cell_type": "code",
   "execution_count": 136,
   "metadata": {
    "collapsed": false
   },
   "outputs": [
    {
     "data": {
      "text/plain": [
       "SVC(C=100, cache_size=200, class_weight=None, coef0=0.0, degree=3, gamma=10,\n",
       "  kernel='rbf', max_iter=-1, probability=True, random_state=None,\n",
       "  shrinking=True, tol=0.001, verbose=False)"
      ]
     },
     "execution_count": 136,
     "metadata": {},
     "output_type": "execute_result"
    }
   ],
   "source": [
    "svc = svm.SVC(C = 100, gamma =10, probability = True)\n",
    "svc"
   ]
  },
  {
   "cell_type": "code",
   "execution_count": 137,
   "metadata": {
    "collapsed": false
   },
   "outputs": [
    {
     "data": {
      "text/plain": [
       "0.9698725376593279"
      ]
     },
     "execution_count": 137,
     "metadata": {},
     "output_type": "execute_result"
    }
   ],
   "source": [
    "svc.fit(data[['X1','X2']], data['y'])\n",
    "svc.score(data[['X1','X2']], data['y'])"
   ]
  },
  {
   "cell_type": "code",
   "execution_count": 139,
   "metadata": {
    "collapsed": false
   },
   "outputs": [
    {
     "data": {
      "text/plain": [
       "<matplotlib.collections.PathCollection at 0x2142ada0>"
      ]
     },
     "execution_count": 139,
     "metadata": {},
     "output_type": "execute_result"
    },
    {
     "data": {
      "image/png": "[encoded data removed]",
      "text/plain": [
       "<matplotlib.figure.Figure at 0x1aa9ccf8>"
      ]
     },
     "metadata": {},
     "output_type": "display_data"
    }
   ],
   "source": [
    "data['Probability'] = svc.predict_proba(data[['X1', 'X2']])[:,0]\n",
    "\n",
    "fig, ax = plt.subplots(figsize=(12,8))\n",
    "ax.scatter(data['X1'], data['X2'], s=30, c=data['Probability'], cmap='Reds')"
   ]
  },
  {
   "cell_type": "code",
   "execution_count": 140,
   "metadata": {
    "collapsed": false
   },
   "outputs": [
    {
     "data": {
      "text/plain": [
       "(0.96499999999999997, {'C': 0.3, 'gamma': 100})"
      ]
     },
     "execution_count": 140,
     "metadata": {},
     "output_type": "execute_result"
    }
   ],
   "source": [
    "raw_data = loadmat('Downloads/data_nb/ex6data3.mat')\n",
    "X = raw_data['X']\n",
    "Xval=raw_data['Xval']\n",
    "y = raw_data['y'].ravel()\n",
    "yval = raw_data['yval'].ravel()\n",
    "\n",
    "\n",
    "C_values = [0.01, 0.03, 0.1, 0.3, 1, 3, 10, 30, 100]\n",
    "gamma_values = [0.01, 0.03, 0.1, 0.3, 1, 3, 10, 30, 100]\n",
    "\n",
    "best_score = 0\n",
    "best_params = {'C': None, 'gamma': None}\n",
    "\n",
    "for C in C_values:\n",
    "    for gamma in gamma_values:\n",
    "        svc = svm.SVC(C=C, gamma=gamma)\n",
    "        svc.fit(X, y)\n",
    "        score = svc.score(Xval, yval)\n",
    "        \n",
    "        if score > best_score:\n",
    "            best_score = score\n",
    "            best_params['C'] = C\n",
    "            best_params['gamma'] = gamma\n",
    "\n",
    "best_score, best_params\n"
   ]
  },
  {
   "cell_type": "code",
   "execution_count": 141,
   "metadata": {
    "collapsed": true
   },
   "outputs": [],
   "source": [
    "spam_train = loadmat('Downloads/data_nb/spamTrain.mat')\n",
    "spam_test = loadmat('Downloads/data_nb/spamTest.mat')"
   ]
  },
  {
   "cell_type": "code",
   "execution_count": 142,
   "metadata": {
    "collapsed": false
   },
   "outputs": [
    {
     "data": {
      "text/plain": [
       "((4000L, 1899L), (4000L,), (1000L, 1899L), (1000L,))"
      ]
     },
     "execution_count": 142,
     "metadata": {},
     "output_type": "execute_result"
    }
   ],
   "source": [
    "X = spam_train['X']\n",
    "Xtest = spam_test['Xtest']\n",
    "\n",
    "y = spam_train['y'].ravel()\n",
    "ytest = spam_test['ytest'].ravel()\n",
    "\n",
    "X.shape, y.shape, Xtest.shape, ytest.shape"
   ]
  },
  {
   "cell_type": "code",
   "execution_count": 143,
   "metadata": {
    "collapsed": false
   },
   "outputs": [
    {
     "data": {
      "text/plain": [
       "0.94399999999999995"
      ]
     },
     "execution_count": 143,
     "metadata": {},
     "output_type": "execute_result"
    }
   ],
   "source": [
    "svc = svm.SVC()\n",
    "svc.fit(X,y)\n",
    "\n",
    "svc.score(X,y)"
   ]
  },
  {
   "cell_type": "code",
   "execution_count": 144,
   "metadata": {
    "collapsed": false
   },
   "outputs": [
    {
     "data": {
      "text/plain": [
       "0.95299999999999996"
      ]
     },
     "execution_count": 144,
     "metadata": {},
     "output_type": "execute_result"
    }
   ],
   "source": [
    "svc.score(Xtest,ytest)"
   ]
  },
  {
   "cell_type": "code",
   "execution_count": 145,
   "metadata": {
    "collapsed": true
   },
   "outputs": [],
   "source": [
    "#Exercise 7"
   ]
  },
  {
   "cell_type": "code",
   "execution_count": 146,
   "metadata": {
    "collapsed": true
   },
   "outputs": [],
   "source": [
    "def find_closest_centroids(X,centroids):\n",
    "    m=X.shape[0]\n",
    "    k=centroids.shape[0]\n",
    "    idx = np.zeros(m)\n",
    "    \n",
    "    for i in range(m):\n",
    "        min_dist = 1000000\n",
    "        for j in range(k):\n",
    "            dist = np.sum((X[i,:] - centroids[j,:]) **2)\n",
    "            if dist < min_dist:\n",
    "                min_dist = dist\n",
    "                idx[i] = j\n",
    "    return idx\n"
   ]
  },
  {
   "cell_type": "code",
   "execution_count": 148,
   "metadata": {
    "collapsed": false
   },
   "outputs": [
    {
     "data": {
      "text/plain": [
       "array([ 0.,  2.,  1.])"
      ]
     },
     "execution_count": 148,
     "metadata": {},
     "output_type": "execute_result"
    }
   ],
   "source": [
    "data =loadmat('Downloads/data_nb/ex7data2.mat')\n",
    "X = data['X']\n",
    "initial_centroids = initial_centroids = np.array([[3,3],[6,2],[8,5]])\n",
    "\n",
    "idx = find_closest_centroids(X,initial_centroids)\n",
    "idx[0:3]"
   ]
  },
  {
   "cell_type": "code",
   "execution_count": 151,
   "metadata": {
    "collapsed": true
   },
   "outputs": [],
   "source": [
    "def compute_centroids(X,idx,k):\n",
    "    m,n = X.shape\n",
    "    centroids = np.zeros((k,n))\n",
    "    \n",
    "    for i in range(k):\n",
    "        indices = np.where(idx == i)\n",
    "        centroids[i,:] = (np.sum(X[indices,:], axis = 1) / len(indices[0])).ravel()\n",
    "        \n",
    "    return centroids"
   ]
  },
  {
   "cell_type": "code",
   "execution_count": 152,
   "metadata": {
    "collapsed": false
   },
   "outputs": [
    {
     "data": {
      "text/plain": [
       "array([[ 2.42830111,  3.15792418],\n",
       "       [ 5.81350331,  2.63365645],\n",
       "       [ 7.11938687,  3.6166844 ]])"
      ]
     },
     "execution_count": 152,
     "metadata": {},
     "output_type": "execute_result"
    }
   ],
   "source": [
    "compute_centroids(X,idx,3)"
   ]
  },
  {
   "cell_type": "code",
   "execution_count": 155,
   "metadata": {
    "collapsed": true
   },
   "outputs": [],
   "source": [
    "def run_k_means(X,initial_centroids, max_iters):\n",
    "    m,n =X.shape\n",
    "    k=initial_centroids.shape[0]\n",
    "    idx = np.zeros(m)\n",
    "    centroids = initial_centroids\n",
    "    \n",
    "    for i in range(max_iters):\n",
    "        idx = find_closest_centroids(X,centroids)\n",
    "        centroids = compute_centroids(X,idx,k)\n",
    "    return idx, centroids\n"
   ]
  },
  {
   "cell_type": "code",
   "execution_count": 156,
   "metadata": {
    "collapsed": false
   },
   "outputs": [],
   "source": [
    "idx, centroids = run_k_means(X,initial_centroids,10)"
   ]
  },
  {
   "cell_type": "code",
   "execution_count": 157,
   "metadata": {
    "collapsed": false
   },
   "outputs": [
    {
     "data": {
      "text/plain": [
       "<matplotlib.legend.Legend at 0xc064b38>"
      ]
     },
     "execution_count": 157,
     "metadata": {},
     "output_type": "execute_result"
    },
    {
     "data": {
      "image/png": "[encoded data removed]",
      "text/plain": [
       "<matplotlib.figure.Figure at 0x213c7358>"
      ]
     },
     "metadata": {},
     "output_type": "display_data"
    }
   ],
   "source": [
    "cluster1 = X[np.where(idx == 0)[0],:]\n",
    "cluster2 = X[np.where(idx == 1)[0],:]\n",
    "cluster3 = X[np.where(idx == 2)[0],:]\n",
    "\n",
    "fig, ax = plt.subplots(figsize=(12,8))\n",
    "ax.scatter(cluster1[:,0], cluster1[:,1], s=30, color='r', label='Cluster 1')\n",
    "ax.scatter(cluster2[:,0], cluster2[:,1], s=30, color='g', label='Cluster 2')\n",
    "ax.scatter(cluster3[:,0], cluster3[:,1], s=30, color='b', label='Cluster 3')\n",
    "ax.legend()"
   ]
  },
  {
   "cell_type": "code",
   "execution_count": 158,
   "metadata": {
    "collapsed": true
   },
   "outputs": [],
   "source": [
    "def init_centroids(X, k):\n",
    "    m, n = X.shape\n",
    "    centroids = np.zeros((k, n))\n",
    "    idx = np.random.randint(0, m, k)\n",
    "    \n",
    "    for i in range(k):\n",
    "        centroids[i,:] = X[idx[i],:]\n",
    "    \n",
    "    return centroids"
   ]
  },
  {
   "cell_type": "code",
   "execution_count": 159,
   "metadata": {
    "collapsed": false
   },
   "outputs": [
    {
     "data": {
      "text/plain": [
       "array([[ 4.18450011,  0.45356203],\n",
       "       [ 3.94159139,  0.82577438],\n",
       "       [ 5.29239452,  0.36873298]])"
      ]
     },
     "execution_count": 159,
     "metadata": {},
     "output_type": "execute_result"
    }
   ],
   "source": [
    "init_centroids(X,3)"
   ]
  },
  {
   "cell_type": "code",
   "execution_count": 161,
   "metadata": {
    "collapsed": false
   },
   "outputs": [
    {
     "data": {
      "image/png": "[encoded data removed]",
      "text/plain": [
       "<IPython.core.display.Image object>"
      ]
     },
     "execution_count": 161,
     "metadata": {},
     "output_type": "execute_result"
    }
   ],
   "source": [
    "from IPython.display import Image\n",
    "Image(filename = 'Downloads/data_nb/bird_small.png')"
   ]
  },
  {
   "cell_type": "code",
   "execution_count": 162,
   "metadata": {
    "collapsed": false
   },
   "outputs": [
    {
     "data": {
      "text/plain": [
       "{'A': array([[[219, 180, 103],\n",
       "         [230, 185, 116],\n",
       "         [226, 186, 110],\n",
       "         ..., \n",
       "         [ 14,  15,  13],\n",
       "         [ 13,  15,  12],\n",
       "         [ 12,  14,  12]],\n",
       " \n",
       "        [[230, 193, 119],\n",
       "         [224, 192, 120],\n",
       "         [226, 192, 124],\n",
       "         ..., \n",
       "         [ 16,  16,  13],\n",
       "         [ 14,  15,  10],\n",
       "         [ 11,  14,   9]],\n",
       " \n",
       "        [[228, 191, 123],\n",
       "         [228, 191, 121],\n",
       "         [220, 185, 118],\n",
       "         ..., \n",
       "         [ 14,  16,  13],\n",
       "         [ 13,  13,  11],\n",
       "         [ 11,  15,  10]],\n",
       " \n",
       "        ..., \n",
       "        [[ 15,  18,  16],\n",
       "         [ 18,  21,  18],\n",
       "         [ 18,  19,  16],\n",
       "         ..., \n",
       "         [ 81,  45,  45],\n",
       "         [ 70,  43,  35],\n",
       "         [ 72,  51,  43]],\n",
       " \n",
       "        [[ 16,  17,  17],\n",
       "         [ 17,  18,  19],\n",
       "         [ 20,  19,  20],\n",
       "         ..., \n",
       "         [ 80,  38,  40],\n",
       "         [ 68,  39,  40],\n",
       "         [ 59,  43,  42]],\n",
       " \n",
       "        [[ 15,  19,  19],\n",
       "         [ 20,  20,  18],\n",
       "         [ 18,  19,  17],\n",
       "         ..., \n",
       "         [ 65,  43,  39],\n",
       "         [ 58,  37,  38],\n",
       "         [ 52,  39,  34]]], dtype=uint8),\n",
       " '__globals__': [],\n",
       " '__header__': 'MATLAB 5.0 MAT-file, Platform: GLNXA64, Created on: Tue Jun  5 04:06:24 2012',\n",
       " '__version__': '1.0'}"
      ]
     },
     "execution_count": 162,
     "metadata": {},
     "output_type": "execute_result"
    }
   ],
   "source": [
    "image_data = loadmat('Downloads/data_nb/bird_small.mat')\n",
    "image_data"
   ]
  },
  {
   "cell_type": "code",
   "execution_count": 163,
   "metadata": {
    "collapsed": false
   },
   "outputs": [
    {
     "data": {
      "text/plain": [
       "(128L, 128L, 3L)"
      ]
     },
     "execution_count": 163,
     "metadata": {},
     "output_type": "execute_result"
    }
   ],
   "source": [
    "A = image_data['A']\n",
    "A.shape"
   ]
  },
  {
   "cell_type": "code",
   "execution_count": 164,
   "metadata": {
    "collapsed": false
   },
   "outputs": [
    {
     "data": {
      "text/plain": [
       "(16384L, 3L)"
      ]
     },
     "execution_count": 164,
     "metadata": {},
     "output_type": "execute_result"
    }
   ],
   "source": [
    "A = A/255\n",
    "\n",
    "X =np.reshape(A, (A.shape[0] * A.shape[1], A.shape[2]))\n",
    "\n",
    "X.shape"
   ]
  },
  {
   "cell_type": "code",
   "execution_count": 170,
   "metadata": {
    "collapsed": false
   },
   "outputs": [
    {
     "data": {
      "text/plain": [
       "(16384L, 3L)"
      ]
     },
     "execution_count": 170,
     "metadata": {},
     "output_type": "execute_result"
    }
   ],
   "source": [
    "# randomly initialize the centroids\n",
    "initial_centroids = init_centroids(X, 16)\n",
    "\n",
    "# run the algorithm\n",
    "idx, centroids = run_k_means(X, initial_centroids, 10)\n",
    "\n",
    "# get the closest centroids one last time\n",
    "idx = find_closest_centroids(X, centroids)\n",
    "\n",
    "# map each pixel to the centroid value\n",
    "X_recovered = centroids[idx.astype(int),:]\n",
    "X_recovered.shape"
   ]
  },
  {
   "cell_type": "code",
   "execution_count": 171,
   "metadata": {
    "collapsed": false
   },
   "outputs": [
    {
     "data": {
      "text/plain": [
       "(128L, 128L, 3L)"
      ]
     },
     "execution_count": 171,
     "metadata": {},
     "output_type": "execute_result"
    }
   ],
   "source": [
    "X_recovered = np.reshape(X_recovered, (A.shape[0], A.shape[1], A.shape[2]))\n",
    "X_recovered.shape"
   ]
  },
  {
   "cell_type": "code",
   "execution_count": 172,
   "metadata": {
    "collapsed": false
   },
   "outputs": [
    {
     "data": {
      "text/plain": [
       "<matplotlib.image.AxesImage at 0x20f063c8>"
      ]
     },
     "execution_count": 172,
     "metadata": {},
     "output_type": "execute_result"
    },
    {
     "data": {
      "image/png": "[encoded data removed]",
      "text/plain": [
       "<matplotlib.figure.Figure at 0x26884128>"
      ]
     },
     "metadata": {},
     "output_type": "display_data"
    }
   ],
   "source": [
    "plt.imshow(X_recovered)"
   ]
  },
  {
   "cell_type": "code",
   "execution_count": 173,
   "metadata": {
    "collapsed": true
   },
   "outputs": [],
   "source": [
    "#PCA"
   ]
  },
  {
   "cell_type": "code",
   "execution_count": 174,
   "metadata": {
    "collapsed": false
   },
   "outputs": [
    {
     "data": {
      "text/plain": [
       "{'X': array([[ 3.38156267,  3.38911268],\n",
       "        [ 4.52787538,  5.8541781 ],\n",
       "        [ 2.65568187,  4.41199472],\n",
       "        [ 2.76523467,  3.71541365],\n",
       "        [ 2.84656011,  4.17550645],\n",
       "        [ 3.89067196,  6.48838087],\n",
       "        [ 3.47580524,  3.63284876],\n",
       "        [ 5.91129845,  6.68076853],\n",
       "        [ 3.92889397,  5.09844661],\n",
       "        [ 4.56183537,  5.62329929],\n",
       "        [ 4.57407171,  5.39765069],\n",
       "        [ 4.37173356,  5.46116549],\n",
       "        [ 4.19169388,  4.95469359],\n",
       "        [ 5.24408518,  4.66148767],\n",
       "        [ 2.8358402 ,  3.76801716],\n",
       "        [ 5.63526969,  6.31211438],\n",
       "        [ 4.68632968,  5.6652411 ],\n",
       "        [ 2.85051337,  4.62645627],\n",
       "        [ 5.1101573 ,  7.36319662],\n",
       "        [ 5.18256377,  4.64650909],\n",
       "        [ 5.70732809,  6.68103995],\n",
       "        [ 3.57968458,  4.80278074],\n",
       "        [ 5.63937773,  6.12043594],\n",
       "        [ 4.26346851,  4.68942896],\n",
       "        [ 2.53651693,  3.88449078],\n",
       "        [ 3.22382902,  4.94255585],\n",
       "        [ 4.92948801,  5.95501971],\n",
       "        [ 5.79295774,  5.10839305],\n",
       "        [ 2.81684824,  4.81895769],\n",
       "        [ 3.88882414,  5.10036564],\n",
       "        [ 3.34323419,  5.89301345],\n",
       "        [ 5.87973414,  5.52141664],\n",
       "        [ 3.10391912,  3.85710242],\n",
       "        [ 5.33150572,  4.68074235],\n",
       "        [ 3.37542687,  4.56537852],\n",
       "        [ 4.77667888,  6.25435039],\n",
       "        [ 2.6757463 ,  3.73096988],\n",
       "        [ 5.50027665,  5.67948113],\n",
       "        [ 1.79709714,  3.24753885],\n",
       "        [ 4.3225147 ,  5.11110472],\n",
       "        [ 4.42100445,  6.02563978],\n",
       "        [ 3.17929886,  4.43686032],\n",
       "        [ 3.03354125,  3.97879278],\n",
       "        [ 4.6093482 ,  5.879792  ],\n",
       "        [ 2.96378859,  3.30024835],\n",
       "        [ 3.97176248,  5.40773735],\n",
       "        [ 1.18023321,  2.87869409],\n",
       "        [ 1.91895045,  5.07107848],\n",
       "        [ 3.95524687,  4.5053271 ],\n",
       "        [ 5.11795499,  6.08507386]]),\n",
       " '__globals__': [],\n",
       " '__header__': 'MATLAB 5.0 MAT-file, Platform: PCWIN64, Created on: Mon Nov 14 22:41:44 2011',\n",
       " '__version__': '1.0'}"
      ]
     },
     "execution_count": 174,
     "metadata": {},
     "output_type": "execute_result"
    }
   ],
   "source": [
    "data = loadmat('Downloads/data_nb/ex7data1.mat')\n",
    "data"
   ]
  },
  {
   "cell_type": "code",
   "execution_count": 175,
   "metadata": {
    "collapsed": false
   },
   "outputs": [
    {
     "data": {
      "text/plain": [
       "<matplotlib.collections.PathCollection at 0x200dbf28>"
      ]
     },
     "execution_count": 175,
     "metadata": {},
     "output_type": "execute_result"
    },
    {
     "data": {
      "image/png": "[encoded data removed]",
      "text/plain": [
       "<matplotlib.figure.Figure at 0x215f7a90>"
      ]
     },
     "metadata": {},
     "output_type": "display_data"
    }
   ],
   "source": [
    "X = data['X']\n",
    "fig, ax = plt.subplots(figsize=(12,8))\n",
    "ax.scatter(X[:, 0], X[:, 1])"
   ]
  },
  {
   "cell_type": "code",
   "execution_count": 176,
   "metadata": {
    "collapsed": true
   },
   "outputs": [],
   "source": [
    "def pca(X):\n",
    "\n",
    "    X = (X - X.mean()) / X.std()\n",
    "    X = np.matrix(X)\n",
    "    cov = (X.T * X) / X.shape[0]\n",
    "    U, S, V = np.linalg.svd(cov)\n",
    "    return U, S, V"
   ]
  },
  {
   "cell_type": "code",
   "execution_count": 177,
   "metadata": {
    "collapsed": false
   },
   "outputs": [
    {
     "data": {
      "text/plain": [
       "50L"
      ]
     },
     "execution_count": 177,
     "metadata": {},
     "output_type": "execute_result"
    }
   ],
   "source": [
    "X.shape[0]"
   ]
  },
  {
   "cell_type": "code",
   "execution_count": 178,
   "metadata": {
    "collapsed": false
   },
   "outputs": [
    {
     "data": {
      "text/plain": [
       "(matrix([[-0.79241747, -0.60997914],\n",
       "         [-0.60997914,  0.79241747]]),\n",
       " array([ 1.43584536,  0.56415464]),\n",
       " matrix([[-0.79241747, -0.60997914],\n",
       "         [-0.60997914,  0.79241747]]))"
      ]
     },
     "execution_count": 178,
     "metadata": {},
     "output_type": "execute_result"
    }
   ],
   "source": [
    "U, S, V = pca(X)\n",
    "U, S, V"
   ]
  },
  {
   "cell_type": "code",
   "execution_count": 179,
   "metadata": {
    "collapsed": true
   },
   "outputs": [],
   "source": [
    "def project_data(X, U, k):\n",
    "    U_reduced = U[:,:k]\n",
    "    return np.dot(X, U_reduced)"
   ]
  },
  {
   "cell_type": "code",
   "execution_count": 180,
   "metadata": {
    "collapsed": false
   },
   "outputs": [
    {
     "data": {
      "text/plain": [
       "matrix([[-4.74689738],\n",
       "        [-7.15889408],\n",
       "        [-4.79563345],\n",
       "        [-4.45754509],\n",
       "        [-4.80263579],\n",
       "        [-7.04081342],\n",
       "        [-4.97025076],\n",
       "        [-8.75934561],\n",
       "        [-6.2232703 ],\n",
       "        [-7.04497331],\n",
       "        [-6.91702866],\n",
       "        [-6.79543508],\n",
       "        [-6.3438312 ],\n",
       "        [-6.99891495],\n",
       "        [-4.54558119],\n",
       "        [-8.31574426],\n",
       "        [-7.16920841],\n",
       "        [-5.08083842],\n",
       "        [-8.54077427],\n",
       "        [-6.94102769],\n",
       "        [-8.5978815 ],\n",
       "        [-5.76620067],\n",
       "        [-8.2020797 ],\n",
       "        [-6.23890078],\n",
       "        [-4.37943868],\n",
       "        [-5.56947441],\n",
       "        [-7.53865023],\n",
       "        [-7.70645413],\n",
       "        [-5.17158343],\n",
       "        [-6.19268884],\n",
       "        [-6.24385246],\n",
       "        [-8.02715303],\n",
       "        [-4.81235176],\n",
       "        [-7.07993347],\n",
       "        [-5.45953289],\n",
       "        [-7.60014707],\n",
       "        [-4.39612191],\n",
       "        [-7.82288033],\n",
       "        [-3.40498213],\n",
       "        [-6.54290343],\n",
       "        [-7.17879573],\n",
       "        [-5.22572421],\n",
       "        [-4.83081168],\n",
       "        [-7.23907851],\n",
       "        [-4.36164051],\n",
       "        [-6.44590096],\n",
       "        [-2.69118076],\n",
       "        [-4.61386195],\n",
       "        [-5.88236227],\n",
       "        [-7.76732508]])"
      ]
     },
     "execution_count": 180,
     "metadata": {},
     "output_type": "execute_result"
    }
   ],
   "source": [
    "Z = project_data(X,U,1)\n",
    "Z"
   ]
  },
  {
   "cell_type": "code",
   "execution_count": 181,
   "metadata": {
    "collapsed": true
   },
   "outputs": [],
   "source": [
    "def recover_data(Z, U, k):\n",
    "    U_reduced = U[:,:k]\n",
    "    return np.dot(Z, U_reduced.T)"
   ]
  },
  {
   "cell_type": "code",
   "execution_count": 182,
   "metadata": {
    "collapsed": false
   },
   "outputs": [
    {
     "data": {
      "text/plain": [
       "matrix([[ 3.76152442,  2.89550838],\n",
       "        [ 5.67283275,  4.36677606],\n",
       "        [ 3.80014373,  2.92523637],\n",
       "        [ 3.53223661,  2.71900952],\n",
       "        [ 3.80569251,  2.92950765],\n",
       "        [ 5.57926356,  4.29474931],\n",
       "        [ 3.93851354,  3.03174929],\n",
       "        [ 6.94105849,  5.3430181 ],\n",
       "        [ 4.93142811,  3.79606507],\n",
       "        [ 5.58255993,  4.29728676],\n",
       "        [ 5.48117436,  4.21924319],\n",
       "        [ 5.38482148,  4.14507365],\n",
       "        [ 5.02696267,  3.8696047 ],\n",
       "        [ 5.54606249,  4.26919213],\n",
       "        [ 3.60199795,  2.77270971],\n",
       "        [ 6.58954104,  5.07243054],\n",
       "        [ 5.681006  ,  4.37306758],\n",
       "        [ 4.02614513,  3.09920545],\n",
       "        [ 6.76785875,  5.20969415],\n",
       "        [ 5.50019161,  4.2338821 ],\n",
       "        [ 6.81311151,  5.24452836],\n",
       "        [ 4.56923815,  3.51726213],\n",
       "        [ 6.49947125,  5.00309752],\n",
       "        [ 4.94381398,  3.80559934],\n",
       "        [ 3.47034372,  2.67136624],\n",
       "        [ 4.41334883,  3.39726321],\n",
       "        [ 5.97375815,  4.59841938],\n",
       "        [ 6.10672889,  4.70077626],\n",
       "        [ 4.09805306,  3.15455801],\n",
       "        [ 4.90719483,  3.77741101],\n",
       "        [ 4.94773778,  3.80861976],\n",
       "        [ 6.36085631,  4.8963959 ],\n",
       "        [ 3.81339161,  2.93543419],\n",
       "        [ 5.61026298,  4.31861173],\n",
       "        [ 4.32622924,  3.33020118],\n",
       "        [ 6.02248932,  4.63593118],\n",
       "        [ 3.48356381,  2.68154267],\n",
       "        [ 6.19898705,  4.77179382],\n",
       "        [ 2.69816733,  2.07696807],\n",
       "        [ 5.18471099,  3.99103461],\n",
       "        [ 5.68860316,  4.37891565],\n",
       "        [ 4.14095516,  3.18758276],\n",
       "        [ 3.82801958,  2.94669436],\n",
       "        [ 5.73637229,  4.41568689],\n",
       "        [ 3.45624014,  2.66050973],\n",
       "        [ 5.10784454,  3.93186513],\n",
       "        [ 2.13253865,  1.64156413],\n",
       "        [ 3.65610482,  2.81435955],\n",
       "        [ 4.66128664,  3.58811828],\n",
       "        [ 6.1549641 ,  4.73790627]])"
      ]
     },
     "execution_count": 182,
     "metadata": {},
     "output_type": "execute_result"
    }
   ],
   "source": [
    "X_recovered = recover_data(Z, U, 1)\n",
    "X_recovered"
   ]
  },
  {
   "cell_type": "code",
   "execution_count": 183,
   "metadata": {
    "collapsed": false
   },
   "outputs": [
    {
     "data": {
      "text/plain": [
       "<matplotlib.collections.PathCollection at 0x1aecb6a0>"
      ]
     },
     "execution_count": 183,
     "metadata": {},
     "output_type": "execute_result"
    },
    {
     "data": {
      "image/png": "[encoded data removed]",
      "text/plain": [
       "<matplotlib.figure.Figure at 0x1aecb780>"
      ]
     },
     "metadata": {},
     "output_type": "display_data"
    }
   ],
   "source": [
    "fig, ax = plt.subplots(figsize=(12,8))\n",
    "ax.scatter(X_recovered[:, 0], X_recovered[:, 1])"
   ]
  },
  {
   "cell_type": "code",
   "execution_count": 184,
   "metadata": {
    "collapsed": false
   },
   "outputs": [
    {
     "data": {
      "text/plain": [
       "(5000L, 1024L)"
      ]
     },
     "execution_count": 184,
     "metadata": {},
     "output_type": "execute_result"
    }
   ],
   "source": [
    "faces = loadmat('Downloads/data_nb/ex7faces.mat')\n",
    "X = faces['X']\n",
    "X.shape"
   ]
  },
  {
   "cell_type": "code",
   "execution_count": 185,
   "metadata": {
    "collapsed": true
   },
   "outputs": [],
   "source": [
    "face = np.reshape(X[3,:], (32, 32))"
   ]
  },
  {
   "cell_type": "code",
   "execution_count": 186,
   "metadata": {
    "collapsed": false
   },
   "outputs": [
    {
     "data": {
      "text/plain": [
       "<matplotlib.image.AxesImage at 0x1f439748>"
      ]
     },
     "execution_count": 186,
     "metadata": {},
     "output_type": "execute_result"
    },
    {
     "data": {
      "image/png": "[encoded data removed]",
      "text/plain": [
       "<matplotlib.figure.Figure at 0x2689e080>"
      ]
     },
     "metadata": {},
     "output_type": "display_data"
    }
   ],
   "source": [
    "plt.imshow(face)"
   ]
  },
  {
   "cell_type": "code",
   "execution_count": 187,
   "metadata": {
    "collapsed": true
   },
   "outputs": [],
   "source": [
    "U, S, V = pca(X)\n",
    "Z = project_data(X, U, 100)"
   ]
  },
  {
   "cell_type": "code",
   "execution_count": 188,
   "metadata": {
    "collapsed": false
   },
   "outputs": [
    {
     "data": {
      "text/plain": [
       "<matplotlib.image.AxesImage at 0x1f6f5470>"
      ]
     },
     "execution_count": 188,
     "metadata": {},
     "output_type": "execute_result"
    },
    {
     "data": {
      "image/png": "[encoded data removed]",
      "text/plain": [
       "<matplotlib.figure.Figure at 0x219e0550>"
      ]
     },
     "metadata": {},
     "output_type": "display_data"
    }
   ],
   "source": [
    "X_recovered = recover_data(Z, U, 100)\n",
    "face = np.reshape(X_recovered[3,:], (32, 32))\n",
    "plt.imshow(face)"
   ]
  },
  {
   "cell_type": "code",
   "execution_count": 189,
   "metadata": {
    "collapsed": true
   },
   "outputs": [],
   "source": [
    "#Exercise 8\n"
   ]
  },
  {
   "cell_type": "code",
   "execution_count": 190,
   "metadata": {
    "collapsed": true
   },
   "outputs": [],
   "source": [
    "import seaborn as sb"
   ]
  },
  {
   "cell_type": "code",
   "execution_count": 191,
   "metadata": {
    "collapsed": false
   },
   "outputs": [
    {
     "data": {
      "text/plain": [
       "(307L, 2L)"
      ]
     },
     "execution_count": 191,
     "metadata": {},
     "output_type": "execute_result"
    }
   ],
   "source": [
    "data = loadmat('Downloads/data_nb/ex8data1.mat')\n",
    "X = data['X']\n",
    "X.shape"
   ]
  },
  {
   "cell_type": "code",
   "execution_count": 192,
   "metadata": {
    "collapsed": false
   },
   "outputs": [
    {
     "data": {
      "text/plain": [
       "<matplotlib.collections.PathCollection at 0x21888748>"
      ]
     },
     "execution_count": 192,
     "metadata": {},
     "output_type": "execute_result"
    },
    {
     "data": {
      "image/png": "[encoded data removed]",
      "text/plain": [
       "<matplotlib.figure.Figure at 0x2186a710>"
      ]
     },
     "metadata": {},
     "output_type": "display_data"
    }
   ],
   "source": [
    "fig, ax = plt.subplots(figsize=(12,8))\n",
    "ax.scatter(X[:,0], X[:,1])"
   ]
  },
  {
   "cell_type": "code",
   "execution_count": 193,
   "metadata": {
    "collapsed": true
   },
   "outputs": [],
   "source": [
    "def estimate_gaussian(X):\n",
    "    mu = X.mean(axis=0)\n",
    "    sigma = X.var(axis =0)\n",
    "    \n",
    "    return mu,sigma"
   ]
  },
  {
   "cell_type": "code",
   "execution_count": 194,
   "metadata": {
    "collapsed": false
   },
   "outputs": [
    {
     "data": {
      "text/plain": [
       "(array([ 14.11222578,  14.99771051]), array([ 1.83263141,  1.70974533]))"
      ]
     },
     "execution_count": 194,
     "metadata": {},
     "output_type": "execute_result"
    }
   ],
   "source": [
    "mu, sigma = estimate_gaussian(X)\n",
    "mu, sigma"
   ]
  },
  {
   "cell_type": "code",
   "execution_count": 195,
   "metadata": {
    "collapsed": false
   },
   "outputs": [
    {
     "data": {
      "text/plain": [
       "((307L, 2L), (307L, 1L))"
      ]
     },
     "execution_count": 195,
     "metadata": {},
     "output_type": "execute_result"
    }
   ],
   "source": [
    "Xval = data['Xval']\n",
    "yval = data['yval']\n",
    "\n",
    "Xval.shape, yval.shape"
   ]
  },
  {
   "cell_type": "code",
   "execution_count": 197,
   "metadata": {
    "collapsed": false
   },
   "outputs": [
    {
     "data": {
      "text/plain": [
       "0.1935875044615038"
      ]
     },
     "execution_count": 197,
     "metadata": {},
     "output_type": "execute_result"
    }
   ],
   "source": [
    "from scipy import stats\n",
    "dist =stats.norm(mu[0], sigma[0])\n",
    "dist.pdf(15)"
   ]
  },
  {
   "cell_type": "code",
   "execution_count": 198,
   "metadata": {
    "collapsed": false
   },
   "outputs": [
    {
     "data": {
      "text/plain": [
       "array([ 0.183842  ,  0.20221694,  0.21746136,  0.19778763,  0.20858956,\n",
       "        0.21652359,  0.16991291,  0.15123542,  0.1163989 ,  0.1594734 ,\n",
       "        0.21716057,  0.21760472,  0.20141857,  0.20157497,  0.21711385,\n",
       "        0.21758775,  0.21695576,  0.2138258 ,  0.21057069,  0.1173018 ,\n",
       "        0.20765108,  0.21717452,  0.19510663,  0.21702152,  0.17429399,\n",
       "        0.15413455,  0.21000109,  0.20223586,  0.21031898,  0.21313426,\n",
       "        0.16158946,  0.2170794 ,  0.17825767,  0.17414633,  0.1264951 ,\n",
       "        0.19723662,  0.14538809,  0.21766361,  0.21191386,  0.21729442,\n",
       "        0.21238912,  0.18799417,  0.21259798,  0.21752767,  0.20616968,\n",
       "        0.21520366,  0.1280081 ,  0.21768113,  0.21539967,  0.16913173])"
      ]
     },
     "execution_count": 198,
     "metadata": {},
     "output_type": "execute_result"
    }
   ],
   "source": [
    "dist.pdf(X[:,0])[0:50]"
   ]
  },
  {
   "cell_type": "code",
   "execution_count": 199,
   "metadata": {
    "collapsed": false
   },
   "outputs": [
    {
     "data": {
      "text/plain": [
       "(307L, 2L)"
      ]
     },
     "execution_count": 199,
     "metadata": {},
     "output_type": "execute_result"
    }
   ],
   "source": [
    "p = np.zeros((X.shape[0], X.shape[1]))\n",
    "p[:,0] = stats.norm(mu[0], sigma[0]).pdf(X[:,0])\n",
    "p[:,1] = stats.norm(mu[1], sigma[1]).pdf(X[:,1])\n",
    "\n",
    "p.shape"
   ]
  },
  {
   "cell_type": "code",
   "execution_count": 200,
   "metadata": {
    "collapsed": false
   },
   "outputs": [
    {
     "data": {
      "text/plain": [
       "(307L, 2L)"
      ]
     },
     "execution_count": 200,
     "metadata": {},
     "output_type": "execute_result"
    }
   ],
   "source": [
    "pval = np.zeros((Xval.shape[0], Xval.shape[1]))\n",
    "pval[:,0] = stats.norm(mu[0], sigma[0]).pdf(Xval[:,0])\n",
    "pval[:,1] = stats.norm(mu[1], sigma[1]).pdf(Xval[:,1])\n",
    "\n",
    "pval.shape"
   ]
  },
  {
   "cell_type": "code",
   "execution_count": 201,
   "metadata": {
    "collapsed": true
   },
   "outputs": [],
   "source": [
    "def select_threshold(pval, yval):\n",
    "    best_epsilon = 0\n",
    "    best_f1 = 0\n",
    "    f1 = 0\n",
    "    \n",
    "    step = (pval.max() - pval.min()) / 1000\n",
    "    \n",
    "    for epsilon in np.arange(pval.min(), pval.max(), step):\n",
    "        preds = pval < epsilon\n",
    "        \n",
    "        tp = np.sum(np.logical_and(preds == 1, yval == 1)).astype(float)\n",
    "        fp = np.sum(np.logical_and(preds == 1, yval == 0)).astype(float)\n",
    "        fn = np.sum(np.logical_and(preds == 0, yval == 1)).astype(float)\n",
    "        \n",
    "        precision = tp / (tp + fp)\n",
    "        recall = tp / (tp + fn)\n",
    "        f1 = (2 * precision * recall) / (precision + recall)\n",
    "        \n",
    "        if f1 > best_f1:\n",
    "            best_f1 = f1\n",
    "            best_epsilon = epsilon\n",
    "    \n",
    "    return best_epsilon, best_f1"
   ]
  },
  {
   "cell_type": "code",
   "execution_count": 202,
   "metadata": {
    "collapsed": false
   },
   "outputs": [
    {
     "data": {
      "text/plain": [
       "(0.0095667060059568421, 0.7142857142857143)"
      ]
     },
     "execution_count": 202,
     "metadata": {},
     "output_type": "execute_result"
    }
   ],
   "source": [
    "epsilon, f1 = select_threshold(pval, yval)\n",
    "epsilon, f1"
   ]
  },
  {
   "cell_type": "code",
   "execution_count": 203,
   "metadata": {
    "collapsed": false
   },
   "outputs": [
    {
     "data": {
      "text/plain": [
       "(array([300, 301, 301, 303, 303, 304, 306, 306], dtype=int64),\n",
       " array([1, 0, 1, 0, 1, 0, 0, 1], dtype=int64))"
      ]
     },
     "execution_count": 203,
     "metadata": {},
     "output_type": "execute_result"
    }
   ],
   "source": [
    "outliers = np.where(p < epsilon)\n",
    "outliers"
   ]
  },
  {
   "cell_type": "code",
   "execution_count": 204,
   "metadata": {
    "collapsed": false
   },
   "outputs": [
    {
     "data": {
      "text/plain": [
       "<matplotlib.collections.PathCollection at 0x266ba278>"
      ]
     },
     "execution_count": 204,
     "metadata": {},
     "output_type": "execute_result"
    },
    {
     "data": {
      "image/png": "[encoded data removed]",
      "text/plain": [
       "<matplotlib.figure.Figure at 0x1f53a0f0>"
      ]
     },
     "metadata": {},
     "output_type": "display_data"
    }
   ],
   "source": [
    "fig, ax = plt.subplots(figsize=(12,8))\n",
    "ax.scatter(X[:,0], X[:,1])\n",
    "ax.scatter(X[outliers[0],0], X[outliers[0],1], s=50, color='r', marker='o')"
   ]
  },
  {
   "cell_type": "code",
   "execution_count": null,
   "metadata": {
    "collapsed": true
   },
   "outputs": [],
   "source": []
  }
 ],
 "metadata": {
  "kernelspec": {
   "display_name": "Python 2",
   "language": "python",
   "name": "python2"
  },
  "language_info": {
   "codemirror_mode": {
    "name": "ipython",
    "version": 2
   },
   "file_extension": ".py",
   "mimetype": "text/x-python",
   "name": "python",
   "nbconvert_exporter": "python",
   "pygments_lexer": "ipython2",
   "version": "2.7.10"
  }
 },
 "nbformat": 4,
 "nbformat_minor": 0
}
